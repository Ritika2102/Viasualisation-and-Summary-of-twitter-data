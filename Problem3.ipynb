{
 "cells": [
  {
   "cell_type": "markdown",
   "metadata": {},
   "source": [
    "Problem: Summarizing the rending topics of place.\n",
    "First need to install and use library twitteR.\n",
    "Set the connection using OAuth function provided in twitteR manual.\n",
    "Below are the commands used:"
   ]
  },
  {
   "cell_type": "code",
   "execution_count": 2,
   "metadata": {
    "collapsed": false
   },
   "outputs": [
    {
     "name": "stdout",
     "output_type": "stream",
     "text": [
      "[1] \"Using direct authentication\"\n"
     ]
    }
   ],
   "source": [
    "library(twitteR)\n",
    "consumer_key <- \"YFRKcjB2YmmHmm7RnIYrFHRu4\"\n",
    "consumer_secret <- \"WyGhC2WPsdYhtzftBpPBaKK7WW1zT59bIZZITJam0kxYqCoVv0\"\n",
    "access_token <- \"2847122858-61160AhvuVDnyh8UoxOFWK8Glpiy9gElcDOOHUQ\"\n",
    "access_token_secret <- \"k04Jc2QUX0TX9fvlOHO5ZdpNthZAg7z6UQZbYu9solu9D\"\n",
    "setup_twitter_oauth(consumer_key, consumer_secret, access_token, access_token_secret)"
   ]
  },
  {
   "cell_type": "markdown",
   "metadata": {},
   "source": [
    "Now we need to set a variable such as location to name of the place whose trends we need"
   ]
  },
  {
   "cell_type": "code",
   "execution_count": 3,
   "metadata": {
    "collapsed": true
   },
   "outputs": [],
   "source": [
    "location <- \"New York\""
   ]
  },
  {
   "cell_type": "markdown",
   "metadata": {},
   "source": [
    "We can get the lat long of the particular place by passsing through geocode function. \n",
    "We need to install and import the libraries ggmap,maps,ggplot2"
   ]
  },
  {
   "cell_type": "code",
   "execution_count": 4,
   "metadata": {
    "collapsed": false
   },
   "outputs": [
    {
     "name": "stderr",
     "output_type": "stream",
     "text": [
      "Information from URL : http://maps.googleapis.com/maps/api/geocode/json?address=New%20York&sensor=false\n"
     ]
    }
   ],
   "source": [
    "library(ggplot2)\n",
    "library(maps)\n",
    "library(ggmap)\n",
    "xy.locations <- geocode(location)\n",
    "lon.x <- xy.locations$lon\n",
    "lat.y <- xy.locations$lat"
   ]
  },
  {
   "cell_type": "markdown",
   "metadata": {},
   "source": [
    "We use the function provided in twitteR manual closestTrendLocations()and pass the arguments lat and long.\n",
    "We do this to get the woeid which is an argument of getTrends to get the latest trends "
   ]
  },
  {
   "cell_type": "code",
   "execution_count": 5,
   "metadata": {
    "collapsed": false
   },
   "outputs": [
    {
     "name": "stdout",
     "output_type": "stream",
     "text": [
      "      name       country   woeid\n",
      "1 New York United States 2459115\n"
     ]
    },
    {
     "data": {
      "text/html": [
       "<table>\n",
       "<thead><tr><th scope=col>name</th><th scope=col>url</th><th scope=col>query</th><th scope=col>woeid</th></tr></thead>\n",
       "<tbody>\n",
       "\t<tr><td>#drummer                                                </td><td>http://twitter.com/search?q=%23drummer                  </td><td>%23drummer                                              </td><td>2459115                                                 </td></tr>\n",
       "\t<tr><td>Prod                                                    </td><td>http://twitter.com/search?q=Prod                        </td><td>Prod                                                    </td><td>2459115                                                 </td></tr>\n",
       "\t<tr><td>#hurtbae                                                </td><td>http://twitter.com/search?q=%23hurtbae                  </td><td>%23hurtbae                                              </td><td>2459115                                                 </td></tr>\n",
       "\t<tr><td>#SJUBase                                                </td><td>http://twitter.com/search?q=%23SJUBase                  </td><td>%23SJUBase                                              </td><td>2459115                                                 </td></tr>\n",
       "\t<tr><td>Spring                                                  </td><td>http://twitter.com/search?q=Spring                      </td><td>Spring                                                  </td><td>2459115                                                 </td></tr>\n",
       "\t<tr><td>#umes                                                   </td><td>http://twitter.com/search?q=%23umes                     </td><td>%23umes                                                 </td><td>2459115                                                 </td></tr>\n",
       "\t<tr><td>#Bears                                                  </td><td>http://twitter.com/search?q=%23Bears                    </td><td>%23Bears                                                </td><td>2459115                                                 </td></tr>\n",
       "\t<tr><td>Bill Maher                                              </td><td>http://twitter.com/search?q=%22Bill+Maher%22            </td><td>%22Bill+Maher%22                                        </td><td>2459115                                                 </td></tr>\n",
       "\t<tr><td>Ivan Koloff                                             </td><td>http://twitter.com/search?q=%22Ivan+Koloff%22           </td><td>%22Ivan+Koloff%22                                       </td><td>2459115                                                 </td></tr>\n",
       "\t<tr><td>Randy Levine                                            </td><td>http://twitter.com/search?q=%22Randy+Levine%22          </td><td>%22Randy+Levine%22                                      </td><td>2459115                                                 </td></tr>\n",
       "\t<tr><td>Bale                                                    </td><td>http://twitter.com/search?q=Bale                        </td><td>Bale                                                    </td><td>2459115                                                 </td></tr>\n",
       "\t<tr><td>Chris Webber                                            </td><td>http://twitter.com/search?q=%22Chris+Webber%22          </td><td>%22Chris+Webber%22                                      </td><td>2459115                                                 </td></tr>\n",
       "\t<tr><td>White House Apprentice                                  </td><td>http://twitter.com/search?q=%22White+House+Apprentice%22</td><td>%22White+House+Apprentice%22                            </td><td>2459115                                                 </td></tr>\n",
       "\t<tr><td>Isco                                                    </td><td>http://twitter.com/search?q=Isco                        </td><td>Isco                                                    </td><td>2459115                                                 </td></tr>\n",
       "\t<tr><td>Cristiano                                               </td><td>http://twitter.com/search?q=Cristiano                   </td><td>Cristiano                                               </td><td>2459115                                                 </td></tr>\n",
       "\t<tr><td>Omar Abdel-Rahman                                       </td><td>http://twitter.com/search?q=%22Omar+Abdel-Rahman%22     </td><td>%22Omar+Abdel-Rahman%22                                 </td><td>2459115                                                 </td></tr>\n",
       "\t<tr><td>Leaked Trump                                            </td><td>http://twitter.com/search?q=%22Leaked+Trump%22          </td><td>%22Leaked+Trump%22                                      </td><td>2459115                                                 </td></tr>\n",
       "\t<tr><td>Millwall                                                </td><td>http://twitter.com/search?q=Millwall                    </td><td>Millwall                                                </td><td>2459115                                                 </td></tr>\n",
       "\t<tr><td>Morata                                                  </td><td>http://twitter.com/search?q=Morata                      </td><td>Morata                                                  </td><td>2459115                                                 </td></tr>\n",
       "\t<tr><td>John McCain                                             </td><td>http://twitter.com/search?q=%22John+McCain%22           </td><td>%22John+McCain%22                                       </td><td>2459115                                                 </td></tr>\n",
       "\t<tr><td>Larry Wilmore                                           </td><td>http://twitter.com/search?q=%22Larry+Wilmore%22         </td><td>%22Larry+Wilmore%22                                     </td><td>2459115                                                 </td></tr>\n",
       "\t<tr><td>Man City                                                </td><td>http://twitter.com/search?q=%22Man+City%22              </td><td>%22Man+City%22                                          </td><td>2459115                                                 </td></tr>\n",
       "\t<tr><td>Darryl Reynolds                                         </td><td>http://twitter.com/search?q=%22Darryl+Reynolds%22       </td><td>%22Darryl+Reynolds%22                                   </td><td>2459115                                                 </td></tr>\n",
       "\t<tr><td>Hertha                                                  </td><td>http://twitter.com/search?q=Hertha                      </td><td>Hertha                                                  </td><td>2459115                                                 </td></tr>\n",
       "\t<tr><td>#DonaldTrump                                            </td><td>http://twitter.com/search?q=%23DonaldTrump              </td><td>%23DonaldTrump                                          </td><td>2459115                                                 </td></tr>\n",
       "\t<tr><td>#AMJoy                                                  </td><td>http://twitter.com/search?q=%23AMJoy                    </td><td>%23AMJoy                                                </td><td>2459115                                                 </td></tr>\n",
       "\t<tr><td>#HonestyIn5Words                                        </td><td>http://twitter.com/search?q=%23HonestyIn5Words          </td><td>%23HonestyIn5Words                                      </td><td>2459115                                                 </td></tr>\n",
       "\t<tr><td>#NotTheEnemy                                            </td><td>http://twitter.com/search?q=%23NotTheEnemy              </td><td>%23NotTheEnemy                                          </td><td>2459115                                                 </td></tr>\n",
       "\t<tr><td>#saturdaymorning                                        </td><td>http://twitter.com/search?q=%23saturdaymorning          </td><td>%23saturdaymorning                                      </td><td>2459115                                                 </td></tr>\n",
       "\t<tr><td>#MyPlanetWouldHave                                      </td><td>http://twitter.com/search?q=%23MyPlanetWouldHave        </td><td>%23MyPlanetWouldHave                                    </td><td>2459115                                                 </td></tr>\n",
       "\t<tr><td>#igot7selcaday                                          </td><td>http://twitter.com/search?q=%23igot7selcaday            </td><td>%23igot7selcaday                                        </td><td>2459115                                                 </td></tr>\n",
       "\t<tr><td>#NationalDrinkWineDay                                   </td><td>http://twitter.com/search?q=%23NationalDrinkWineDay     </td><td>%23NationalDrinkWineDay                                 </td><td>2459115                                                 </td></tr>\n",
       "\t<tr><td>#satchatwc                                              </td><td>http://twitter.com/search?q=%23satchatwc                </td><td>%23satchatwc                                            </td><td>2459115                                                 </td></tr>\n",
       "\t<tr><td>#FACup                                                  </td><td>http://twitter.com/search?q=%23FACup                    </td><td>%23FACup                                                </td><td>2459115                                                 </td></tr>\n",
       "\t<tr><td>#SpaceX                                                 </td><td>http://twitter.com/search?q=%23SpaceX                   </td><td>%23SpaceX                                               </td><td>2459115                                                 </td></tr>\n",
       "\t<tr><td>#wiad17                                                 </td><td>http://twitter.com/search?q=%23wiad17                   </td><td>%23wiad17                                               </td><td>2459115                                                 </td></tr>\n",
       "\t<tr><td>#cashinin                                               </td><td>http://twitter.com/search?q=%23cashinin                 </td><td>%23cashinin                                             </td><td>2459115                                                 </td></tr>\n",
       "\t<tr><td>#WarOnIslam                                             </td><td>http://twitter.com/search?q=%23WarOnIslam               </td><td>%23WarOnIslam                                           </td><td>2459115                                                 </td></tr>\n",
       "\t<tr><td>#NaughtyGrasTonight                                     </td><td>http://twitter.com/search?q=%23NaughtyGrasTonight       </td><td>%23NaughtyGrasTonight                                   </td><td>2459115                                                 </td></tr>\n",
       "\t<tr><td>#BSCFCB                                                 </td><td>http://twitter.com/search?q=%23BSCFCB                   </td><td>%23BSCFCB                                               </td><td>2459115                                                 </td></tr>\n",
       "\t<tr><td>#BRITsBastille                                          </td><td>http://twitter.com/search?q=%23BRITsBastille            </td><td>%23BRITsBastille                                        </td><td>2459115                                                 </td></tr>\n",
       "\t<tr><td>#DontTouchMe                                            </td><td>http://twitter.com/search?q=%23DontTouchMe              </td><td>%23DontTouchMe                                          </td><td>2459115                                                 </td></tr>\n",
       "\t<tr><td>#EduGladiators                                          </td><td>http://twitter.com/search?q=%23EduGladiators            </td><td>%23EduGladiators                                        </td><td>2459115                                                 </td></tr>\n",
       "\t<tr><td>#EdCampNavasota                                         </td><td>http://twitter.com/search?q=%23EdCampNavasota           </td><td>%23EdCampNavasota                                       </td><td>2459115                                                 </td></tr>\n",
       "\t<tr><td>#WorldPangolinDay                                       </td><td>http://twitter.com/search?q=%23WorldPangolinDay         </td><td>%23WorldPangolinDay                                     </td><td>2459115                                                 </td></tr>\n",
       "\t<tr><td>#atTCM                                                  </td><td>http://twitter.com/search?q=%23atTCM                    </td><td>%23atTCM                                                </td><td>2459115                                                 </td></tr>\n",
       "\t<tr><td>#WildThings17                                           </td><td>http://twitter.com/search?q=%23WildThings17             </td><td>%23WildThings17                                         </td><td>2459115                                                 </td></tr>\n",
       "\t<tr><td>#SeniorDay                                              </td><td>http://twitter.com/search?q=%23SeniorDay                </td><td>%23SeniorDay                                            </td><td>2459115                                                 </td></tr>\n",
       "\t<tr><td>#2YearsOfHeyViolet                                      </td><td>http://twitter.com/search?q=%232YearsOfHeyViolet        </td><td>%232YearsOfHeyViolet                                    </td><td>2459115                                                 </td></tr>\n",
       "\t<tr><td>#mtw17                                                  </td><td>http://twitter.com/search?q=%23mtw17                    </td><td>%23mtw17                                                </td><td>2459115                                                 </td></tr>\n",
       "</tbody>\n",
       "</table>\n"
      ],
      "text/latex": [
       "\\begin{tabular}{r|llll}\n",
       " name & url & query & woeid\\\\\n",
       "\\hline\n",
       "\t \\#drummer                                                 & http://twitter.com/search?q=\\%23drummer                   & \\%23drummer                                               & 2459115                                                   \\\\\n",
       "\t Prod                                                     & http://twitter.com/search?q=Prod                         & Prod                                                     & 2459115                                                 \\\\\n",
       "\t \\#hurtbae                                                 & http://twitter.com/search?q=\\%23hurtbae                   & \\%23hurtbae                                               & 2459115                                                   \\\\\n",
       "\t \\#SJUBase                                                 & http://twitter.com/search?q=\\%23SJUBase                   & \\%23SJUBase                                               & 2459115                                                   \\\\\n",
       "\t Spring                                                   & http://twitter.com/search?q=Spring                       & Spring                                                   & 2459115                                                 \\\\\n",
       "\t \\#umes                                                    & http://twitter.com/search?q=\\%23umes                      & \\%23umes                                                  & 2459115                                                   \\\\\n",
       "\t \\#Bears                                                   & http://twitter.com/search?q=\\%23Bears                     & \\%23Bears                                                 & 2459115                                                   \\\\\n",
       "\t Bill Maher                                                   & http://twitter.com/search?q=\\%22Bill+Maher\\%22             & \\%22Bill+Maher\\%22                                         & 2459115                                                     \\\\\n",
       "\t Ivan Koloff                                                  & http://twitter.com/search?q=\\%22Ivan+Koloff\\%22            & \\%22Ivan+Koloff\\%22                                        & 2459115                                                     \\\\\n",
       "\t Randy Levine                                                 & http://twitter.com/search?q=\\%22Randy+Levine\\%22           & \\%22Randy+Levine\\%22                                       & 2459115                                                     \\\\\n",
       "\t Bale                                                     & http://twitter.com/search?q=Bale                         & Bale                                                     & 2459115                                                 \\\\\n",
       "\t Chris Webber                                                 & http://twitter.com/search?q=\\%22Chris+Webber\\%22           & \\%22Chris+Webber\\%22                                       & 2459115                                                     \\\\\n",
       "\t White House Apprentice                                       & http://twitter.com/search?q=\\%22White+House+Apprentice\\%22 & \\%22White+House+Apprentice\\%22                             & 2459115                                                     \\\\\n",
       "\t Isco                                                     & http://twitter.com/search?q=Isco                         & Isco                                                     & 2459115                                                 \\\\\n",
       "\t Cristiano                                                & http://twitter.com/search?q=Cristiano                    & Cristiano                                                & 2459115                                                 \\\\\n",
       "\t Omar Abdel-Rahman                                            & http://twitter.com/search?q=\\%22Omar+Abdel-Rahman\\%22      & \\%22Omar+Abdel-Rahman\\%22                                  & 2459115                                                     \\\\\n",
       "\t Leaked Trump                                                 & http://twitter.com/search?q=\\%22Leaked+Trump\\%22           & \\%22Leaked+Trump\\%22                                       & 2459115                                                     \\\\\n",
       "\t Millwall                                                 & http://twitter.com/search?q=Millwall                     & Millwall                                                 & 2459115                                                 \\\\\n",
       "\t Morata                                                   & http://twitter.com/search?q=Morata                       & Morata                                                   & 2459115                                                 \\\\\n",
       "\t John McCain                                                  & http://twitter.com/search?q=\\%22John+McCain\\%22            & \\%22John+McCain\\%22                                        & 2459115                                                     \\\\\n",
       "\t Larry Wilmore                                                & http://twitter.com/search?q=\\%22Larry+Wilmore\\%22          & \\%22Larry+Wilmore\\%22                                      & 2459115                                                     \\\\\n",
       "\t Man City                                                     & http://twitter.com/search?q=\\%22Man+City\\%22               & \\%22Man+City\\%22                                           & 2459115                                                     \\\\\n",
       "\t Darryl Reynolds                                              & http://twitter.com/search?q=\\%22Darryl+Reynolds\\%22        & \\%22Darryl+Reynolds\\%22                                    & 2459115                                                     \\\\\n",
       "\t Hertha                                                   & http://twitter.com/search?q=Hertha                       & Hertha                                                   & 2459115                                                 \\\\\n",
       "\t \\#DonaldTrump                                             & http://twitter.com/search?q=\\%23DonaldTrump               & \\%23DonaldTrump                                           & 2459115                                                   \\\\\n",
       "\t \\#AMJoy                                                   & http://twitter.com/search?q=\\%23AMJoy                     & \\%23AMJoy                                                 & 2459115                                                   \\\\\n",
       "\t \\#HonestyIn5Words                                         & http://twitter.com/search?q=\\%23HonestyIn5Words           & \\%23HonestyIn5Words                                       & 2459115                                                   \\\\\n",
       "\t \\#NotTheEnemy                                             & http://twitter.com/search?q=\\%23NotTheEnemy               & \\%23NotTheEnemy                                           & 2459115                                                   \\\\\n",
       "\t \\#saturdaymorning                                         & http://twitter.com/search?q=\\%23saturdaymorning           & \\%23saturdaymorning                                       & 2459115                                                   \\\\\n",
       "\t \\#MyPlanetWouldHave                                       & http://twitter.com/search?q=\\%23MyPlanetWouldHave         & \\%23MyPlanetWouldHave                                     & 2459115                                                   \\\\\n",
       "\t \\#igot7selcaday                                           & http://twitter.com/search?q=\\%23igot7selcaday             & \\%23igot7selcaday                                         & 2459115                                                   \\\\\n",
       "\t \\#NationalDrinkWineDay                                    & http://twitter.com/search?q=\\%23NationalDrinkWineDay      & \\%23NationalDrinkWineDay                                  & 2459115                                                   \\\\\n",
       "\t \\#satchatwc                                               & http://twitter.com/search?q=\\%23satchatwc                 & \\%23satchatwc                                             & 2459115                                                   \\\\\n",
       "\t \\#FACup                                                   & http://twitter.com/search?q=\\%23FACup                     & \\%23FACup                                                 & 2459115                                                   \\\\\n",
       "\t \\#SpaceX                                                  & http://twitter.com/search?q=\\%23SpaceX                    & \\%23SpaceX                                                & 2459115                                                   \\\\\n",
       "\t \\#wiad17                                                  & http://twitter.com/search?q=\\%23wiad17                    & \\%23wiad17                                                & 2459115                                                   \\\\\n",
       "\t \\#cashinin                                                & http://twitter.com/search?q=\\%23cashinin                  & \\%23cashinin                                              & 2459115                                                   \\\\\n",
       "\t \\#WarOnIslam                                              & http://twitter.com/search?q=\\%23WarOnIslam                & \\%23WarOnIslam                                            & 2459115                                                   \\\\\n",
       "\t \\#NaughtyGrasTonight                                      & http://twitter.com/search?q=\\%23NaughtyGrasTonight        & \\%23NaughtyGrasTonight                                    & 2459115                                                   \\\\\n",
       "\t \\#BSCFCB                                                  & http://twitter.com/search?q=\\%23BSCFCB                    & \\%23BSCFCB                                                & 2459115                                                   \\\\\n",
       "\t \\#BRITsBastille                                           & http://twitter.com/search?q=\\%23BRITsBastille             & \\%23BRITsBastille                                         & 2459115                                                   \\\\\n",
       "\t \\#DontTouchMe                                             & http://twitter.com/search?q=\\%23DontTouchMe               & \\%23DontTouchMe                                           & 2459115                                                   \\\\\n",
       "\t \\#EduGladiators                                           & http://twitter.com/search?q=\\%23EduGladiators             & \\%23EduGladiators                                         & 2459115                                                   \\\\\n",
       "\t \\#EdCampNavasota                                          & http://twitter.com/search?q=\\%23EdCampNavasota            & \\%23EdCampNavasota                                        & 2459115                                                   \\\\\n",
       "\t \\#WorldPangolinDay                                        & http://twitter.com/search?q=\\%23WorldPangolinDay          & \\%23WorldPangolinDay                                      & 2459115                                                   \\\\\n",
       "\t \\#atTCM                                                   & http://twitter.com/search?q=\\%23atTCM                     & \\%23atTCM                                                 & 2459115                                                   \\\\\n",
       "\t \\#WildThings17                                            & http://twitter.com/search?q=\\%23WildThings17              & \\%23WildThings17                                          & 2459115                                                   \\\\\n",
       "\t \\#SeniorDay                                               & http://twitter.com/search?q=\\%23SeniorDay                 & \\%23SeniorDay                                             & 2459115                                                   \\\\\n",
       "\t \\#2YearsOfHeyViolet                                       & http://twitter.com/search?q=\\%232YearsOfHeyViolet         & \\%232YearsOfHeyViolet                                     & 2459115                                                   \\\\\n",
       "\t \\#mtw17                                                   & http://twitter.com/search?q=\\%23mtw17                     & \\%23mtw17                                                 & 2459115                                                   \\\\\n",
       "\\end{tabular}\n"
      ],
      "text/markdown": [
       "\n",
       "name | url | query | woeid | \n",
       "|---|---|---|---|---|---|---|---|---|---|---|---|---|---|---|---|---|---|---|---|---|---|---|---|---|---|---|---|---|---|---|---|---|---|---|---|---|---|---|---|---|---|---|---|---|---|---|---|---|---|\n",
       "| #drummer                                                 | http://twitter.com/search?q=%23drummer                   | %23drummer                                               | 2459115                                                  | \n",
       "| Prod                                                     | http://twitter.com/search?q=Prod                         | Prod                                                     | 2459115                                                  | \n",
       "| #hurtbae                                                 | http://twitter.com/search?q=%23hurtbae                   | %23hurtbae                                               | 2459115                                                  | \n",
       "| #SJUBase                                                 | http://twitter.com/search?q=%23SJUBase                   | %23SJUBase                                               | 2459115                                                  | \n",
       "| Spring                                                   | http://twitter.com/search?q=Spring                       | Spring                                                   | 2459115                                                  | \n",
       "| #umes                                                    | http://twitter.com/search?q=%23umes                      | %23umes                                                  | 2459115                                                  | \n",
       "| #Bears                                                   | http://twitter.com/search?q=%23Bears                     | %23Bears                                                 | 2459115                                                  | \n",
       "| Bill Maher                                               | http://twitter.com/search?q=%22Bill+Maher%22             | %22Bill+Maher%22                                         | 2459115                                                  | \n",
       "| Ivan Koloff                                              | http://twitter.com/search?q=%22Ivan+Koloff%22            | %22Ivan+Koloff%22                                        | 2459115                                                  | \n",
       "| Randy Levine                                             | http://twitter.com/search?q=%22Randy+Levine%22           | %22Randy+Levine%22                                       | 2459115                                                  | \n",
       "| Bale                                                     | http://twitter.com/search?q=Bale                         | Bale                                                     | 2459115                                                  | \n",
       "| Chris Webber                                             | http://twitter.com/search?q=%22Chris+Webber%22           | %22Chris+Webber%22                                       | 2459115                                                  | \n",
       "| White House Apprentice                                   | http://twitter.com/search?q=%22White+House+Apprentice%22 | %22White+House+Apprentice%22                             | 2459115                                                  | \n",
       "| Isco                                                     | http://twitter.com/search?q=Isco                         | Isco                                                     | 2459115                                                  | \n",
       "| Cristiano                                                | http://twitter.com/search?q=Cristiano                    | Cristiano                                                | 2459115                                                  | \n",
       "| Omar Abdel-Rahman                                        | http://twitter.com/search?q=%22Omar+Abdel-Rahman%22      | %22Omar+Abdel-Rahman%22                                  | 2459115                                                  | \n",
       "| Leaked Trump                                             | http://twitter.com/search?q=%22Leaked+Trump%22           | %22Leaked+Trump%22                                       | 2459115                                                  | \n",
       "| Millwall                                                 | http://twitter.com/search?q=Millwall                     | Millwall                                                 | 2459115                                                  | \n",
       "| Morata                                                   | http://twitter.com/search?q=Morata                       | Morata                                                   | 2459115                                                  | \n",
       "| John McCain                                              | http://twitter.com/search?q=%22John+McCain%22            | %22John+McCain%22                                        | 2459115                                                  | \n",
       "| Larry Wilmore                                            | http://twitter.com/search?q=%22Larry+Wilmore%22          | %22Larry+Wilmore%22                                      | 2459115                                                  | \n",
       "| Man City                                                 | http://twitter.com/search?q=%22Man+City%22               | %22Man+City%22                                           | 2459115                                                  | \n",
       "| Darryl Reynolds                                          | http://twitter.com/search?q=%22Darryl+Reynolds%22        | %22Darryl+Reynolds%22                                    | 2459115                                                  | \n",
       "| Hertha                                                   | http://twitter.com/search?q=Hertha                       | Hertha                                                   | 2459115                                                  | \n",
       "| #DonaldTrump                                             | http://twitter.com/search?q=%23DonaldTrump               | %23DonaldTrump                                           | 2459115                                                  | \n",
       "| #AMJoy                                                   | http://twitter.com/search?q=%23AMJoy                     | %23AMJoy                                                 | 2459115                                                  | \n",
       "| #HonestyIn5Words                                         | http://twitter.com/search?q=%23HonestyIn5Words           | %23HonestyIn5Words                                       | 2459115                                                  | \n",
       "| #NotTheEnemy                                             | http://twitter.com/search?q=%23NotTheEnemy               | %23NotTheEnemy                                           | 2459115                                                  | \n",
       "| #saturdaymorning                                         | http://twitter.com/search?q=%23saturdaymorning           | %23saturdaymorning                                       | 2459115                                                  | \n",
       "| #MyPlanetWouldHave                                       | http://twitter.com/search?q=%23MyPlanetWouldHave         | %23MyPlanetWouldHave                                     | 2459115                                                  | \n",
       "| #igot7selcaday                                           | http://twitter.com/search?q=%23igot7selcaday             | %23igot7selcaday                                         | 2459115                                                  | \n",
       "| #NationalDrinkWineDay                                    | http://twitter.com/search?q=%23NationalDrinkWineDay      | %23NationalDrinkWineDay                                  | 2459115                                                  | \n",
       "| #satchatwc                                               | http://twitter.com/search?q=%23satchatwc                 | %23satchatwc                                             | 2459115                                                  | \n",
       "| #FACup                                                   | http://twitter.com/search?q=%23FACup                     | %23FACup                                                 | 2459115                                                  | \n",
       "| #SpaceX                                                  | http://twitter.com/search?q=%23SpaceX                    | %23SpaceX                                                | 2459115                                                  | \n",
       "| #wiad17                                                  | http://twitter.com/search?q=%23wiad17                    | %23wiad17                                                | 2459115                                                  | \n",
       "| #cashinin                                                | http://twitter.com/search?q=%23cashinin                  | %23cashinin                                              | 2459115                                                  | \n",
       "| #WarOnIslam                                              | http://twitter.com/search?q=%23WarOnIslam                | %23WarOnIslam                                            | 2459115                                                  | \n",
       "| #NaughtyGrasTonight                                      | http://twitter.com/search?q=%23NaughtyGrasTonight        | %23NaughtyGrasTonight                                    | 2459115                                                  | \n",
       "| #BSCFCB                                                  | http://twitter.com/search?q=%23BSCFCB                    | %23BSCFCB                                                | 2459115                                                  | \n",
       "| #BRITsBastille                                           | http://twitter.com/search?q=%23BRITsBastille             | %23BRITsBastille                                         | 2459115                                                  | \n",
       "| #DontTouchMe                                             | http://twitter.com/search?q=%23DontTouchMe               | %23DontTouchMe                                           | 2459115                                                  | \n",
       "| #EduGladiators                                           | http://twitter.com/search?q=%23EduGladiators             | %23EduGladiators                                         | 2459115                                                  | \n",
       "| #EdCampNavasota                                          | http://twitter.com/search?q=%23EdCampNavasota            | %23EdCampNavasota                                        | 2459115                                                  | \n",
       "| #WorldPangolinDay                                        | http://twitter.com/search?q=%23WorldPangolinDay          | %23WorldPangolinDay                                      | 2459115                                                  | \n",
       "| #atTCM                                                   | http://twitter.com/search?q=%23atTCM                     | %23atTCM                                                 | 2459115                                                  | \n",
       "| #WildThings17                                            | http://twitter.com/search?q=%23WildThings17              | %23WildThings17                                          | 2459115                                                  | \n",
       "| #SeniorDay                                               | http://twitter.com/search?q=%23SeniorDay                 | %23SeniorDay                                             | 2459115                                                  | \n",
       "| #2YearsOfHeyViolet                                       | http://twitter.com/search?q=%232YearsOfHeyViolet         | %232YearsOfHeyViolet                                     | 2459115                                                  | \n",
       "| #mtw17                                                   | http://twitter.com/search?q=%23mtw17                     | %23mtw17                                                 | 2459115                                                  | \n",
       "\n",
       "\n"
      ],
      "text/plain": [
       "   name                  \n",
       "1  #drummer              \n",
       "2  Prod                  \n",
       "3  #hurtbae              \n",
       "4  #SJUBase              \n",
       "5  Spring                \n",
       "6  #umes                 \n",
       "7  #Bears                \n",
       "8  Bill Maher            \n",
       "9  Ivan Koloff           \n",
       "10 Randy Levine          \n",
       "11 Bale                  \n",
       "12 Chris Webber          \n",
       "13 White House Apprentice\n",
       "14 Isco                  \n",
       "15 Cristiano             \n",
       "16 Omar Abdel-Rahman     \n",
       "17 Leaked Trump          \n",
       "18 Millwall              \n",
       "19 Morata                \n",
       "20 John McCain           \n",
       "21 Larry Wilmore         \n",
       "22 Man City              \n",
       "23 Darryl Reynolds       \n",
       "24 Hertha                \n",
       "25 #DonaldTrump          \n",
       "26 #AMJoy                \n",
       "27 #HonestyIn5Words      \n",
       "28 #NotTheEnemy          \n",
       "29 #saturdaymorning      \n",
       "30 #MyPlanetWouldHave    \n",
       "31 #igot7selcaday        \n",
       "32 #NationalDrinkWineDay \n",
       "33 #satchatwc            \n",
       "34 #FACup                \n",
       "35 #SpaceX               \n",
       "36 #wiad17               \n",
       "37 #cashinin             \n",
       "38 #WarOnIslam           \n",
       "39 #NaughtyGrasTonight   \n",
       "40 #BSCFCB               \n",
       "41 #BRITsBastille        \n",
       "42 #DontTouchMe          \n",
       "43 #EduGladiators        \n",
       "44 #EdCampNavasota       \n",
       "45 #WorldPangolinDay     \n",
       "46 #atTCM                \n",
       "47 #WildThings17         \n",
       "48 #SeniorDay            \n",
       "49 #2YearsOfHeyViolet    \n",
       "50 #mtw17                \n",
       "   url                                                     \n",
       "1  http://twitter.com/search?q=%23drummer                  \n",
       "2  http://twitter.com/search?q=Prod                        \n",
       "3  http://twitter.com/search?q=%23hurtbae                  \n",
       "4  http://twitter.com/search?q=%23SJUBase                  \n",
       "5  http://twitter.com/search?q=Spring                      \n",
       "6  http://twitter.com/search?q=%23umes                     \n",
       "7  http://twitter.com/search?q=%23Bears                    \n",
       "8  http://twitter.com/search?q=%22Bill+Maher%22            \n",
       "9  http://twitter.com/search?q=%22Ivan+Koloff%22           \n",
       "10 http://twitter.com/search?q=%22Randy+Levine%22          \n",
       "11 http://twitter.com/search?q=Bale                        \n",
       "12 http://twitter.com/search?q=%22Chris+Webber%22          \n",
       "13 http://twitter.com/search?q=%22White+House+Apprentice%22\n",
       "14 http://twitter.com/search?q=Isco                        \n",
       "15 http://twitter.com/search?q=Cristiano                   \n",
       "16 http://twitter.com/search?q=%22Omar+Abdel-Rahman%22     \n",
       "17 http://twitter.com/search?q=%22Leaked+Trump%22          \n",
       "18 http://twitter.com/search?q=Millwall                    \n",
       "19 http://twitter.com/search?q=Morata                      \n",
       "20 http://twitter.com/search?q=%22John+McCain%22           \n",
       "21 http://twitter.com/search?q=%22Larry+Wilmore%22         \n",
       "22 http://twitter.com/search?q=%22Man+City%22              \n",
       "23 http://twitter.com/search?q=%22Darryl+Reynolds%22       \n",
       "24 http://twitter.com/search?q=Hertha                      \n",
       "25 http://twitter.com/search?q=%23DonaldTrump              \n",
       "26 http://twitter.com/search?q=%23AMJoy                    \n",
       "27 http://twitter.com/search?q=%23HonestyIn5Words          \n",
       "28 http://twitter.com/search?q=%23NotTheEnemy              \n",
       "29 http://twitter.com/search?q=%23saturdaymorning          \n",
       "30 http://twitter.com/search?q=%23MyPlanetWouldHave        \n",
       "31 http://twitter.com/search?q=%23igot7selcaday            \n",
       "32 http://twitter.com/search?q=%23NationalDrinkWineDay     \n",
       "33 http://twitter.com/search?q=%23satchatwc                \n",
       "34 http://twitter.com/search?q=%23FACup                    \n",
       "35 http://twitter.com/search?q=%23SpaceX                   \n",
       "36 http://twitter.com/search?q=%23wiad17                   \n",
       "37 http://twitter.com/search?q=%23cashinin                 \n",
       "38 http://twitter.com/search?q=%23WarOnIslam               \n",
       "39 http://twitter.com/search?q=%23NaughtyGrasTonight       \n",
       "40 http://twitter.com/search?q=%23BSCFCB                   \n",
       "41 http://twitter.com/search?q=%23BRITsBastille            \n",
       "42 http://twitter.com/search?q=%23DontTouchMe              \n",
       "43 http://twitter.com/search?q=%23EduGladiators            \n",
       "44 http://twitter.com/search?q=%23EdCampNavasota           \n",
       "45 http://twitter.com/search?q=%23WorldPangolinDay         \n",
       "46 http://twitter.com/search?q=%23atTCM                    \n",
       "47 http://twitter.com/search?q=%23WildThings17             \n",
       "48 http://twitter.com/search?q=%23SeniorDay                \n",
       "49 http://twitter.com/search?q=%232YearsOfHeyViolet        \n",
       "50 http://twitter.com/search?q=%23mtw17                    \n",
       "   query                        woeid  \n",
       "1  %23drummer                   2459115\n",
       "2  Prod                         2459115\n",
       "3  %23hurtbae                   2459115\n",
       "4  %23SJUBase                   2459115\n",
       "5  Spring                       2459115\n",
       "6  %23umes                      2459115\n",
       "7  %23Bears                     2459115\n",
       "8  %22Bill+Maher%22             2459115\n",
       "9  %22Ivan+Koloff%22            2459115\n",
       "10 %22Randy+Levine%22           2459115\n",
       "11 Bale                         2459115\n",
       "12 %22Chris+Webber%22           2459115\n",
       "13 %22White+House+Apprentice%22 2459115\n",
       "14 Isco                         2459115\n",
       "15 Cristiano                    2459115\n",
       "16 %22Omar+Abdel-Rahman%22      2459115\n",
       "17 %22Leaked+Trump%22           2459115\n",
       "18 Millwall                     2459115\n",
       "19 Morata                       2459115\n",
       "20 %22John+McCain%22            2459115\n",
       "21 %22Larry+Wilmore%22          2459115\n",
       "22 %22Man+City%22               2459115\n",
       "23 %22Darryl+Reynolds%22        2459115\n",
       "24 Hertha                       2459115\n",
       "25 %23DonaldTrump               2459115\n",
       "26 %23AMJoy                     2459115\n",
       "27 %23HonestyIn5Words           2459115\n",
       "28 %23NotTheEnemy               2459115\n",
       "29 %23saturdaymorning           2459115\n",
       "30 %23MyPlanetWouldHave         2459115\n",
       "31 %23igot7selcaday             2459115\n",
       "32 %23NationalDrinkWineDay      2459115\n",
       "33 %23satchatwc                 2459115\n",
       "34 %23FACup                     2459115\n",
       "35 %23SpaceX                    2459115\n",
       "36 %23wiad17                    2459115\n",
       "37 %23cashinin                  2459115\n",
       "38 %23WarOnIslam                2459115\n",
       "39 %23NaughtyGrasTonight        2459115\n",
       "40 %23BSCFCB                    2459115\n",
       "41 %23BRITsBastille             2459115\n",
       "42 %23DontTouchMe               2459115\n",
       "43 %23EduGladiators             2459115\n",
       "44 %23EdCampNavasota            2459115\n",
       "45 %23WorldPangolinDay          2459115\n",
       "46 %23atTCM                     2459115\n",
       "47 %23WildThings17              2459115\n",
       "48 %23SeniorDay                 2459115\n",
       "49 %232YearsOfHeyViolet         2459115\n",
       "50 %23mtw17                     2459115"
      ]
     },
     "metadata": {},
     "output_type": "display_data"
    }
   ],
   "source": [
    "get_value <- closestTrendLocations(lat.y,lon.x)\n",
    "print(get_value) # we do this to see the output of the above function\n",
    "get_woeid <- get_value$woeid # to access the woeid of the result which we need to pass as an argument \n",
    "getTrends(get_woeid) # outputs the latest trends"
   ]
  },
  {
   "cell_type": "markdown",
   "metadata": {},
   "source": [
    "This is to limit the only top ten trending topics"
   ]
  },
  {
   "cell_type": "code",
   "execution_count": 6,
   "metadata": {
    "collapsed": false
   },
   "outputs": [
    {
     "data": {
      "text/html": [
       "<table>\n",
       "<thead><tr><th scope=col>name</th><th scope=col>url</th><th scope=col>query</th><th scope=col>woeid</th></tr></thead>\n",
       "<tbody>\n",
       "\t<tr><td>#drummer                                      </td><td>http://twitter.com/search?q=%23drummer        </td><td>%23drummer                                    </td><td>2459115                                       </td></tr>\n",
       "\t<tr><td>Prod                                          </td><td>http://twitter.com/search?q=Prod              </td><td>Prod                                          </td><td>2459115                                       </td></tr>\n",
       "\t<tr><td>#hurtbae                                      </td><td>http://twitter.com/search?q=%23hurtbae        </td><td>%23hurtbae                                    </td><td>2459115                                       </td></tr>\n",
       "\t<tr><td>#SJUBase                                      </td><td>http://twitter.com/search?q=%23SJUBase        </td><td>%23SJUBase                                    </td><td>2459115                                       </td></tr>\n",
       "\t<tr><td>Spring                                        </td><td>http://twitter.com/search?q=Spring            </td><td>Spring                                        </td><td>2459115                                       </td></tr>\n",
       "\t<tr><td>#umes                                         </td><td>http://twitter.com/search?q=%23umes           </td><td>%23umes                                       </td><td>2459115                                       </td></tr>\n",
       "\t<tr><td>#Bears                                        </td><td>http://twitter.com/search?q=%23Bears          </td><td>%23Bears                                      </td><td>2459115                                       </td></tr>\n",
       "\t<tr><td>Bill Maher                                    </td><td>http://twitter.com/search?q=%22Bill+Maher%22  </td><td>%22Bill+Maher%22                              </td><td>2459115                                       </td></tr>\n",
       "\t<tr><td>Ivan Koloff                                   </td><td>http://twitter.com/search?q=%22Ivan+Koloff%22 </td><td>%22Ivan+Koloff%22                             </td><td>2459115                                       </td></tr>\n",
       "\t<tr><td>Randy Levine                                  </td><td>http://twitter.com/search?q=%22Randy+Levine%22</td><td>%22Randy+Levine%22                            </td><td>2459115                                       </td></tr>\n",
       "</tbody>\n",
       "</table>\n"
      ],
      "text/latex": [
       "\\begin{tabular}{r|llll}\n",
       " name & url & query & woeid\\\\\n",
       "\\hline\n",
       "\t \\#drummer                                       & http://twitter.com/search?q=\\%23drummer         & \\%23drummer                                     & 2459115                                         \\\\\n",
       "\t Prod                                           & http://twitter.com/search?q=Prod               & Prod                                           & 2459115                                       \\\\\n",
       "\t \\#hurtbae                                       & http://twitter.com/search?q=\\%23hurtbae         & \\%23hurtbae                                     & 2459115                                         \\\\\n",
       "\t \\#SJUBase                                       & http://twitter.com/search?q=\\%23SJUBase         & \\%23SJUBase                                     & 2459115                                         \\\\\n",
       "\t Spring                                         & http://twitter.com/search?q=Spring             & Spring                                         & 2459115                                       \\\\\n",
       "\t \\#umes                                          & http://twitter.com/search?q=\\%23umes            & \\%23umes                                        & 2459115                                         \\\\\n",
       "\t \\#Bears                                         & http://twitter.com/search?q=\\%23Bears           & \\%23Bears                                       & 2459115                                         \\\\\n",
       "\t Bill Maher                                         & http://twitter.com/search?q=\\%22Bill+Maher\\%22   & \\%22Bill+Maher\\%22                               & 2459115                                           \\\\\n",
       "\t Ivan Koloff                                        & http://twitter.com/search?q=\\%22Ivan+Koloff\\%22  & \\%22Ivan+Koloff\\%22                              & 2459115                                           \\\\\n",
       "\t Randy Levine                                       & http://twitter.com/search?q=\\%22Randy+Levine\\%22 & \\%22Randy+Levine\\%22                             & 2459115                                           \\\\\n",
       "\\end{tabular}\n"
      ],
      "text/markdown": [
       "\n",
       "name | url | query | woeid | \n",
       "|---|---|---|---|---|---|---|---|---|---|\n",
       "| #drummer                                       | http://twitter.com/search?q=%23drummer         | %23drummer                                     | 2459115                                        | \n",
       "| Prod                                           | http://twitter.com/search?q=Prod               | Prod                                           | 2459115                                        | \n",
       "| #hurtbae                                       | http://twitter.com/search?q=%23hurtbae         | %23hurtbae                                     | 2459115                                        | \n",
       "| #SJUBase                                       | http://twitter.com/search?q=%23SJUBase         | %23SJUBase                                     | 2459115                                        | \n",
       "| Spring                                         | http://twitter.com/search?q=Spring             | Spring                                         | 2459115                                        | \n",
       "| #umes                                          | http://twitter.com/search?q=%23umes            | %23umes                                        | 2459115                                        | \n",
       "| #Bears                                         | http://twitter.com/search?q=%23Bears           | %23Bears                                       | 2459115                                        | \n",
       "| Bill Maher                                     | http://twitter.com/search?q=%22Bill+Maher%22   | %22Bill+Maher%22                               | 2459115                                        | \n",
       "| Ivan Koloff                                    | http://twitter.com/search?q=%22Ivan+Koloff%22  | %22Ivan+Koloff%22                              | 2459115                                        | \n",
       "| Randy Levine                                   | http://twitter.com/search?q=%22Randy+Levine%22 | %22Randy+Levine%22                             | 2459115                                        | \n",
       "\n",
       "\n"
      ],
      "text/plain": [
       "   name         url                                           \n",
       "1  #drummer     http://twitter.com/search?q=%23drummer        \n",
       "2  Prod         http://twitter.com/search?q=Prod              \n",
       "3  #hurtbae     http://twitter.com/search?q=%23hurtbae        \n",
       "4  #SJUBase     http://twitter.com/search?q=%23SJUBase        \n",
       "5  Spring       http://twitter.com/search?q=Spring            \n",
       "6  #umes        http://twitter.com/search?q=%23umes           \n",
       "7  #Bears       http://twitter.com/search?q=%23Bears          \n",
       "8  Bill Maher   http://twitter.com/search?q=%22Bill+Maher%22  \n",
       "9  Ivan Koloff  http://twitter.com/search?q=%22Ivan+Koloff%22 \n",
       "10 Randy Levine http://twitter.com/search?q=%22Randy+Levine%22\n",
       "   query              woeid  \n",
       "1  %23drummer         2459115\n",
       "2  Prod               2459115\n",
       "3  %23hurtbae         2459115\n",
       "4  %23SJUBase         2459115\n",
       "5  Spring             2459115\n",
       "6  %23umes            2459115\n",
       "7  %23Bears           2459115\n",
       "8  %22Bill+Maher%22   2459115\n",
       "9  %22Ivan+Koloff%22  2459115\n",
       "10 %22Randy+Levine%22 2459115"
      ]
     },
     "metadata": {},
     "output_type": "display_data"
    }
   ],
   "source": [
    "data <- getTrends(get_woeid)\n",
    "data1 <- data.frame(data)\n",
    "data1[1:10,]"
   ]
  },
  {
   "cell_type": "markdown",
   "metadata": {},
   "source": [
    "Now we need to print all the trending topics as a statement."
   ]
  },
  {
   "cell_type": "code",
   "execution_count": 19,
   "metadata": {
    "collapsed": false
   },
   "outputs": [
    {
     "data": {
      "text/html": [
       "'The Trending Topics of New York are:'"
      ],
      "text/latex": [
       "'The Trending Topics of New York are:'"
      ],
      "text/markdown": [
       "'The Trending Topics of New York are:'"
      ],
      "text/plain": [
       "[1] \"The Trending Topics of New York are:\""
      ]
     },
     "metadata": {},
     "output_type": "display_data"
    },
    {
     "name": "stdout",
     "output_type": "stream",
     "text": [
      "#drummer  Prod  #hurtbae  #SJUBase  Spring  #umes  #Bears  Bill Maher  Ivan Koloff  Randy Levine  "
     ]
    }
   ],
   "source": [
    "paste(\"The Trending Topics of\",location,\"are:\")\n",
    "for(d in 1:10){\n",
    "    cat(data1$name[d],\" \")\n",
    "}"
   ]
  },
  {
   "cell_type": "code",
   "execution_count": null,
   "metadata": {
    "collapsed": true
   },
   "outputs": [],
   "source": []
  }
 ],
 "metadata": {
  "kernelspec": {
   "display_name": "R",
   "language": "R",
   "name": "ir"
  },
  "language_info": {
   "codemirror_mode": "r",
   "file_extension": ".r",
   "mimetype": "text/x-r-source",
   "name": "R",
   "pygments_lexer": "r",
   "version": "3.3.2"
  }
 },
 "nbformat": 4,
 "nbformat_minor": 2
}
