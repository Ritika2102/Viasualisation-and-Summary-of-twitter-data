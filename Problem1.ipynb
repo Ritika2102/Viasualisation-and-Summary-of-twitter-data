{
 "cells": [
  {
   "cell_type": "markdown",
   "metadata": {},
   "source": [
    "Problem: working with twitteR package library vignette.\n",
    "We will take the reference of twitteR manual and the following code show the use of various methods.\n",
    "First set the connection and use the twitteR package"
   ]
  },
  {
   "cell_type": "code",
   "execution_count": 5,
   "metadata": {
    "collapsed": false
   },
   "outputs": [
    {
     "name": "stdout",
     "output_type": "stream",
     "text": [
      "[1] \"Using direct authentication\"\n"
     ]
    }
   ],
   "source": [
    "library(twitteR)\n",
    "consumer_key <- \"YFRKcjB2YmmHmm7RnIYrFHRu4\"\n",
    "consumer_secret <- \"WyGhC2WPsdYhtzftBpPBaKK7WW1zT59bIZZITJam0kxYqCoVv0\"\n",
    "access_token <- \"2847122858-61160AhvuVDnyh8UoxOFWK8Glpiy9gElcDOOHUQ\"\n",
    "access_token_secret <- \"k04Jc2QUX0TX9fvlOHO5ZdpNthZAg7z6UQZbYu9solu9D\"\n",
    "setup_twitter_oauth(consumer_key, consumer_secret, access_token, access_token_secret)"
   ]
  },
  {
   "cell_type": "markdown",
   "metadata": {},
   "source": [
    "This command is to decode the url and it is mentioned in twitteR manual"
   ]
  },
  {
   "cell_type": "code",
   "execution_count": 7,
   "metadata": {
    "collapsed": false
   },
   "outputs": [
    {
     "data": {
      "text/html": [
       "'https://www.google.com'"
      ],
      "text/latex": [
       "'https://www.google.com'"
      ],
      "text/markdown": [
       "'https://www.google.com'"
      ],
      "text/plain": [
       "[1] \"https://www.google.com\""
      ]
     },
     "metadata": {},
     "output_type": "display_data"
    }
   ],
   "source": [
    "decode_short_url(\"https://www.google.com\")"
   ]
  },
  {
   "cell_type": "markdown",
   "metadata": {},
   "source": [
    "This is to direct send a message to any of the user in rhe profile"
   ]
  },
  {
   "cell_type": "code",
   "execution_count": 3,
   "metadata": {
    "collapsed": false
   },
   "outputs": [
    {
     "data": {
      "text/plain": [
       "[1] \"ritika2102->arnavahire: hey\""
      ]
     },
     "metadata": {},
     "output_type": "display_data"
    }
   ],
   "source": [
    "dmSend('hey','arnavahire')"
   ]
  },
  {
   "cell_type": "markdown",
   "metadata": {},
   "source": [
    "This command is to get the favourites of any user"
   ]
  },
  {
   "cell_type": "code",
   "execution_count": 4,
   "metadata": {
    "collapsed": false
   },
   "outputs": [
    {
     "name": "stdout",
     "output_type": "stream",
     "text": [
      "[[1]]\n",
      "[1] \"MesutOzil1088: best. team. <ed><U+00A0><U+00BD><ed><U+00B2><U+00AA><ed><U+00A0><U+00BC><ed><U+00BF><U+00BC><ed><U+00A0><U+00BD><ed><U+00B8><U+008E>\\n#yagunnersya #BeTheDifference #AFCvLCFC #Arsenal #bigpoints https://t.co/UiLGpJj6AC\"\n",
      "\n",
      "[[2]]\n",
      "[1] \"prasannakarthik: Freedom of expression allows one to oppose &amp; defeat the Govt, but not to oppose &amp; defeat the nation; that's sedition. #JNUCrackdown #JNU\"\n",
      "\n",
      "[[3]]\n",
      "[1] \"Arsenal_Mumbai: Gooners lets show our strength. Mark @FA and show them why we stand for @gpaulista5 #IStandWithGabriel @Arsenal http://t.co/4PTRQV9MJa\"\n",
      "\n",
      "[[4]]\n",
      "[1] \"__arsenalnews_: I stand by @gpaulista5 all the way. The guy stood against injustice done to Koscielny. We need more players like him. #IStandWithGabriel\"\n",
      "\n",
      "[[5]]\n",
      "[1] \"__arsenalnews_: Jack Wilshere, Patrick Vieira and Martin Keown will be very proud of Gabriel. #IStandWithGabriel\"\n",
      "\n",
      "[[6]]\n",
      "[1] \"blessenv: No no no! Restart. Restart. If #INDvOMA was an EA game, I would have done this.\"\n",
      "\n",
      "[[7]]\n",
      "[1] \"Shailliverpool: Atletico r showing arsenal how to be a successful selling club\"\n",
      "\n",
      "[[8]]\n",
      "[1] \"17thegunner: We don't need 15.2 overs..... we will do it in 14.2! @iamsrk \\nKORBO LORBO JEETBO\\n#yusufpathan #kkr\"\n",
      "\n",
      "[[9]]\n",
      "[1] \"veena_srinath: Surjewalah has his regular verbal diarrhea, it's exceptionally bad today #tvattack\"\n",
      "\n",
      "[[10]]\n",
      "[1] \"UNILADFootball: 5 highest paid Managers in Europe: \\n\\n1. Guardiola (17M) \\n2. Mourinho (10M) \\n3. Wenger (8.2M) \\n4. Ancelotti (7.5M) \\n5. Moyes (5.9M)\"\n",
      "\n"
     ]
    }
   ],
   "source": [
    "fav <- favorites(\"@17thegunner\",n=10)\n",
    "print(fav)"
   ]
  },
  {
   "cell_type": "markdown",
   "metadata": {},
   "source": [
    "This command is to get the text send to a particular recepient"
   ]
  },
  {
   "cell_type": "code",
   "execution_count": 5,
   "metadata": {
    "collapsed": false
   },
   "outputs": [
    {
     "data": {
      "text/html": [
       "'StudyingDIC'"
      ],
      "text/latex": [
       "'StudyingDIC'"
      ],
      "text/markdown": [
       "'StudyingDIC'"
      ],
      "text/plain": [
       "[1] \"StudyingDIC\""
      ]
     },
     "metadata": {},
     "output_type": "display_data"
    }
   ],
   "source": [
    "demo<- dmFactory$new(text='StudyingDIC', recipientSN='arnavahire')\n",
    "demo$getText()\n"
   ]
  },
  {
   "cell_type": "markdown",
   "metadata": {},
   "source": [
    "This is to check the frienship status of any user"
   ]
  },
  {
   "cell_type": "code",
   "execution_count": 6,
   "metadata": {
    "collapsed": false
   },
   "outputs": [
    {
     "data": {
      "text/html": [
       "<table>\n",
       "<thead><tr><th scope=col>name</th><th scope=col>screen_name</th><th scope=col>id</th><th scope=col>following</th><th scope=col>followed_by</th></tr></thead>\n",
       "<tbody>\n",
       "\t<tr><td>Haril Satra</td><td>17thegunner</td><td>400906935  </td><td>TRUE       </td><td>TRUE       </td></tr>\n",
       "</tbody>\n",
       "</table>\n"
      ],
      "text/latex": [
       "\\begin{tabular}{r|lllll}\n",
       " name & screen\\_name & id & following & followed\\_by\\\\\n",
       "\\hline\n",
       "\t Haril Satra & 17thegunner & 400906935   & TRUE        & TRUE       \\\\\n",
       "\\end{tabular}\n"
      ],
      "text/markdown": [
       "\n",
       "name | screen_name | id | following | followed_by | \n",
       "|---|\n",
       "| Haril Satra | 17thegunner | 400906935   | TRUE        | TRUE        | \n",
       "\n",
       "\n"
      ],
      "text/plain": [
       "  name        screen_name id        following followed_by\n",
       "1 Haril Satra 17thegunner 400906935 TRUE      TRUE       "
      ]
     },
     "metadata": {},
     "output_type": "display_data"
    }
   ],
   "source": [
    "friendships(\"@17thegunner\")"
   ]
  },
  {
   "cell_type": "code",
   "execution_count": 7,
   "metadata": {
    "collapsed": false,
    "scrolled": true
   },
   "outputs": [
    {
     "name": "stdout",
     "output_type": "stream",
     "text": [
      "                           resource limit remaining               reset\n",
      "1                       /lists/list    15        15 2017-02-16 18:09:18\n",
      "2                /lists/memberships    75        75 2017-02-16 18:09:18\n",
      "3           /lists/subscribers/show    15        15 2017-02-16 18:09:18\n",
      "4                    /lists/members   900       900 2017-02-16 18:09:18\n",
      "5              /lists/subscriptions    15        15 2017-02-16 18:09:18\n",
      "6                       /lists/show    75        75 2017-02-16 18:09:18\n",
      "7                 /lists/ownerships    15        15 2017-02-16 18:09:18\n",
      "8                /lists/subscribers   180       180 2017-02-16 18:09:18\n",
      "9               /lists/members/show    15        15 2017-02-16 18:09:18\n",
      "10                  /lists/statuses   900       900 2017-02-16 18:09:18\n",
      "11               /users/report_spam    15        15 2017-02-16 18:09:18\n",
      "12                  /users/show/:id   900       900 2017-02-16 18:09:18\n",
      "13                    /users/search   900       900 2017-02-16 18:09:18\n",
      "14         /users/suggestions/:slug    15        15 2017-02-16 18:09:18\n",
      "15              /users/derived_info    15        15 2017-02-16 18:09:18\n",
      "16            /users/profile_banner   180       180 2017-02-16 18:09:18\n",
      "17 /users/suggestions/:slug/members    15        15 2017-02-16 18:09:18\n",
      "18                    /users/lookup   900       900 2017-02-16 18:09:18\n",
      "19               /users/suggestions    15        15 2017-02-16 18:09:18\n"
     ]
    }
   ],
   "source": [
    "get_limit <- getCurRateLimitInfo(c(\"lists\", \"users\"))\n",
    "print(get_limit)"
   ]
  },
  {
   "cell_type": "markdown",
   "metadata": {},
   "source": [
    "This is the command to get the screen name of any twitter user"
   ]
  },
  {
   "cell_type": "code",
   "execution_count": 8,
   "metadata": {
    "collapsed": false
   },
   "outputs": [
    {
     "name": "stdout",
     "output_type": "stream",
     "text": [
      "[1] \"ritika2102\"\n"
     ]
    }
   ],
   "source": [
    "user <- getUser('ritika2102')\n",
    "print(user)"
   ]
  },
  {
   "cell_type": "markdown",
   "metadata": {},
   "source": [
    "For dealing with methods related to DB we need to install the packages RSQLite and RMysql.\n",
    "We use the commands of this package to store and load the tweets"
   ]
  },
  {
   "cell_type": "code",
   "execution_count": 9,
   "metadata": {
    "collapsed": false
   },
   "outputs": [
    {
     "name": "stderr",
     "output_type": "stream",
     "text": [
      "Loading required package: DBI\n",
      "\n",
      "Attaching package: 'RSQLite'\n",
      "\n",
      "The following object is masked from 'package:RMySQL':\n",
      "\n",
      "    isIdCurrent\n",
      "\n"
     ]
    },
    {
     "data": {
      "text/html": [
       "TRUE"
      ],
      "text/latex": [
       "TRUE"
      ],
      "text/markdown": [
       "TRUE"
      ],
      "text/plain": [
       "[1] TRUE"
      ]
     },
     "metadata": {},
     "output_type": "display_data"
    },
    {
     "data": {
      "text/html": [
       "<table>\n",
       "<thead><tr><th scope=col>text</th><th scope=col>favorited</th><th scope=col>favoriteCount</th><th scope=col>replyToSN</th><th scope=col>created</th><th scope=col>truncated</th><th scope=col>replyToSID</th><th scope=col>id</th><th scope=col>replyToUID</th><th scope=col>statusSource</th><th scope=col>screenName</th><th scope=col>retweetCount</th><th scope=col>isRetweet</th><th scope=col>retweeted</th><th scope=col>longitude</th><th scope=col>latitude</th></tr></thead>\n",
       "<tbody>\n",
       "\t<tr><td><span style=white-space:pre-wrap>Football Radio Show Presents The TrendZone https://t.co/SOSbprZ6oN #TrendZone #NFL #NEvsATL #NFL #Superbowl #SB51… https://t.co/IyJz3Sp0vP                                                </span></td><td>FALSE                                                                                                                                                                                                                             </td><td>0                                                                                                                                                                                                                                 </td><td>NA                                                                                                                                                                                                                                </td><td>2017-02-16 17:58:07                                                                                                                                                                                                               </td><td> TRUE                                                                                                                                                                                                                             </td><td>NA                                                                                                                                                                                                                                </td><td>832287960456429570                                                                                                                                                                                                                </td><td>NA                                                                                                                                                                                                                                </td><td><span style=white-space:pre-wrap>&lt;a href=\"https://www.socialjukebox.com\" rel=\"nofollow\"&gt;The Social Jukebox&lt;/a&gt;       </span>                                                                                          </td><td><span style=white-space:pre-wrap>footballrs     </span>                                                                                                                                                                           </td><td><span style=white-space:pre-wrap>  0</span>                                                                                                                                                                                       </td><td>FALSE                                                                                                                                                                                                                             </td><td>FALSE                                                                                                                                                                                                                             </td><td>NA                                                                                                                                                                                                                                </td><td>NA                                                                                                                                                                                                                                </td></tr>\n",
       "\t<tr><td><span style=white-space:pre-wrap>RT @vdohow: Watch #SuperBowl live FREE at https://t.co/vLUVTynESr\n",
       "\n",
       "#SuperBowlSunday #ladygaga https://t.co/PvAPP4L8YV                                                                   </span></td><td>FALSE                                                                                                                                                                                                                             </td><td>0                                                                                                                                                                                                                                 </td><td>NA                                                                                                                                                                                                                                </td><td>2017-02-16 17:58:01                                                                                                                                                                                                               </td><td>FALSE                                                                                                                                                                                                                             </td><td>NA                                                                                                                                                                                                                                </td><td>832287935462400000                                                                                                                                                                                                                </td><td>NA                                                                                                                                                                                                                                </td><td><span style=white-space:pre-wrap>&lt;a href=\"http://twitter.com\" rel=\"nofollow\"&gt;Twitter Web Client&lt;/a&gt;                  </span>                                                                                          </td><td><span style=white-space:pre-wrap>ShenaShena35   </span>                                                                                                                                                                           </td><td>309                                                                                                                                                                                                                               </td><td> TRUE                                                                                                                                                                                                                             </td><td>FALSE                                                                                                                                                                                                                             </td><td>NA                                                                                                                                                                                                                                </td><td>NA                                                                                                                                                                                                                                </td></tr>\n",
       "\t<tr><td><span style=white-space:pre-wrap>The #Superbowl is over but these #healthy #appetizers are great anytime! - https://t.co/8o42eez1uu #HealthyRecipes #Nutrition                                                             </span></td><td>FALSE                                                                                                                                                                                                                             </td><td>0                                                                                                                                                                                                                                 </td><td>NA                                                                                                                                                                                                                                </td><td>2017-02-16 17:58:00                                                                                                                                                                                                               </td><td>FALSE                                                                                                                                                                                                                             </td><td>NA                                                                                                                                                                                                                                </td><td>832287931540713472                                                                                                                                                                                                                </td><td>NA                                                                                                                                                                                                                                </td><td>&lt;a href=\"https://about.twitter.com/products/tweetdeck\" rel=\"nofollow\"&gt;TweetDeck&lt;/a&gt;                                                                                                                                   </td><td><span style=white-space:pre-wrap>JennySwisher   </span>                                                                                                                                                                           </td><td><span style=white-space:pre-wrap>  0</span>                                                                                                                                                                                       </td><td>FALSE                                                                                                                                                                                                                             </td><td>FALSE                                                                                                                                                                                                                             </td><td>NA                                                                                                                                                                                                                                </td><td>NA                                                                                                                                                                                                                                </td></tr>\n",
       "\t<tr><td>RT @SurvivorHealer: Just look at the passion &amp;amp; hard work in Gaga's #SuperBowl #PepsiHalftime rehearsals.\n",
       "No wonder this made history. &lt;ed&gt;&lt;U+00A0&gt;&lt;U+00BC&gt;&lt;ed&gt;&lt;U+00BC&gt;&lt;U+009F&gt;\n",
       "\n",
       "ht…</td><td>FALSE                                                                                                                                                                                                                             </td><td>0                                                                                                                                                                                                                                 </td><td>NA                                                                                                                                                                                                                                </td><td>2017-02-16 17:57:06                                                                                                                                                                                                               </td><td>FALSE                                                                                                                                                                                                                             </td><td>NA                                                                                                                                                                                                                                </td><td>832287705388171267                                                                                                                                                                                                                </td><td>NA                                                                                                                                                                                                                                </td><td>&lt;a href=\"http://twitter.com/download/android\" rel=\"nofollow\"&gt;Twitter for Android&lt;/a&gt;                                                                                                                                  </td><td><span style=white-space:pre-wrap>cprluvsgaga    </span>                                                                                                                                                                           </td><td>217                                                                                                                                                                                                                               </td><td> TRUE                                                                                                                                                                                                                             </td><td>FALSE                                                                                                                                                                                                                             </td><td>NA                                                                                                                                                                                                                                </td><td>NA                                                                                                                                                                                                                                </td></tr>\n",
       "\t<tr><td><span style=white-space:pre-wrap>RT @OnlyInBOS: After losing a #SuperBowl bet to @SamuelAdamsBeer, @SweetwaterBrew is serving a Patriots Pale Ale at their brewery this week…                                              </span></td><td>FALSE                                                                                                                                                                                                                             </td><td>0                                                                                                                                                                                                                                 </td><td>NA                                                                                                                                                                                                                                </td><td>2017-02-16 17:56:58                                                                                                                                                                                                               </td><td>FALSE                                                                                                                                                                                                                             </td><td>NA                                                                                                                                                                                                                                </td><td>832287669174620161                                                                                                                                                                                                                </td><td>NA                                                                                                                                                                                                                                </td><td><span style=white-space:pre-wrap>&lt;a href=\"http://twitter.com/download/iphone\" rel=\"nofollow\"&gt;Twitter for iPhone&lt;/a&gt;  </span>                                                                                          </td><td><span style=white-space:pre-wrap>emilyharrigan  </span>                                                                                                                                                                           </td><td>146                                                                                                                                                                                                                               </td><td> TRUE                                                                                                                                                                                                                             </td><td>FALSE                                                                                                                                                                                                                             </td><td>NA                                                                                                                                                                                                                                </td><td>NA                                                                                                                                                                                                                                </td></tr>\n",
       "\t<tr><td><span style=white-space:pre-wrap>Check out how @sweetwaterbrew made good on their #SuperBowl wager with @SamuelAdamsBeer. #CraftBeer #drinklocal https://t.co/8XcrJx82N2                                                   </span></td><td>FALSE                                                                                                                                                                                                                             </td><td>0                                                                                                                                                                                                                                 </td><td>NA                                                                                                                                                                                                                                </td><td>2017-02-16 17:56:55                                                                                                                                                                                                               </td><td>FALSE                                                                                                                                                                                                                             </td><td>NA                                                                                                                                                                                                                                </td><td>832287658701361155                                                                                                                                                                                                                </td><td>NA                                                                                                                                                                                                                                </td><td><span style=white-space:pre-wrap>&lt;a href=\"http://twitter.com\" rel=\"nofollow\"&gt;Twitter Web Client&lt;/a&gt;                  </span>                                                                                          </td><td><span style=white-space:pre-wrap>GDesrosiers93  </span>                                                                                                                                                                           </td><td><span style=white-space:pre-wrap>  0</span>                                                                                                                                                                                       </td><td>FALSE                                                                                                                                                                                                                             </td><td>FALSE                                                                                                                                                                                                                             </td><td>NA                                                                                                                                                                                                                                </td><td>NA                                                                                                                                                                                                                                </td></tr>\n",
       "\t<tr><td><span style=white-space:pre-wrap>Top 5 Most Humorous, Most Heartwarming, &amp;amp; Most Inspirational Ads of #SuperBowl 51 in our Post-Game Ad Wrap-Up, here… https://t.co/Ef8QPfORrl                                          </span></td><td>FALSE                                                                                                                                                                                                                                 </td><td>0                                                                                                                                                                                                                                     </td><td>NA                                                                                                                                                                                                                                    </td><td>2017-02-16 17:56:51                                                                                                                                                                                                                   </td><td> TRUE                                                                                                                                                                                                                                 </td><td>NA                                                                                                                                                                                                                                    </td><td>832287643287318529                                                                                                                                                                                                                    </td><td>NA                                                                                                                                                                                                                                    </td><td><span style=white-space:pre-wrap>&lt;a href=\"http://twitter.com\" rel=\"nofollow\"&gt;Twitter Web Client&lt;/a&gt;                  </span>                                                                                              </td><td><span style=white-space:pre-wrap>Ace_Metrix     </span>                                                                                                                                                                               </td><td><span style=white-space:pre-wrap>  0</span>                                                                                                                                                                                           </td><td>FALSE                                                                                                                                                                                                                                 </td><td>FALSE                                                                                                                                                                                                                                 </td><td>NA                                                                                                                                                                                                                                    </td><td>NA                                                                                                                                                                                                                                    </td></tr>\n",
       "\t<tr><td><span style=white-space:pre-wrap>RT @DJTriumph: #ladygaga opening the halftime show like. #SuperBowl #SuperBowlSunday #PepsiHalftime #LadyGagaSuperBowlHOJE #Sting #WCW http…                                              </span></td><td>FALSE                                                                                                                                                                                                                             </td><td>0                                                                                                                                                                                                                                 </td><td>NA                                                                                                                                                                                                                                </td><td>2017-02-16 17:56:39                                                                                                                                                                                                               </td><td>FALSE                                                                                                                                                                                                                             </td><td>NA                                                                                                                                                                                                                                </td><td>832287592259293184                                                                                                                                                                                                                </td><td>NA                                                                                                                                                                                                                                </td><td><span style=white-space:pre-wrap>&lt;a href=\"http://twitter.com\" rel=\"nofollow\"&gt;Twitter Web Client&lt;/a&gt;                  </span>                                                                                          </td><td>TonyMontana7002                                                                                                                                                                                                                   </td><td><span style=white-space:pre-wrap>  1</span>                                                                                                                                                                                       </td><td> TRUE                                                                                                                                                                                                                             </td><td>FALSE                                                                                                                                                                                                                             </td><td>NA                                                                                                                                                                                                                                </td><td>NA                                                                                                                                                                                                                                </td></tr>\n",
       "\t<tr><td><span style=white-space:pre-wrap>RT @MercyForAnimals: 6 Horrifying facts about chickens raised for food. #SuperBowl https://t.co/3KpRn9u4ig                                                                                </span></td><td>FALSE                                                                                                                                                                                                                             </td><td>0                                                                                                                                                                                                                                 </td><td>NA                                                                                                                                                                                                                                </td><td>2017-02-16 17:56:37                                                                                                                                                                                                               </td><td>FALSE                                                                                                                                                                                                                             </td><td>NA                                                                                                                                                                                                                                </td><td>832287580498567168                                                                                                                                                                                                                </td><td>NA                                                                                                                                                                                                                                </td><td><span style=white-space:pre-wrap>&lt;a href=\"http://twitter.com/download/iphone\" rel=\"nofollow\"&gt;Twitter for iPhone&lt;/a&gt;  </span>                                                                                          </td><td><span style=white-space:pre-wrap>OhioVegFest    </span>                                                                                                                                                                           </td><td> 76                                                                                                                                                                                                                               </td><td> TRUE                                                                                                                                                                                                                             </td><td>FALSE                                                                                                                                                                                                                             </td><td>NA                                                                                                                                                                                                                                </td><td>NA                                                                                                                                                                                                                                </td></tr>\n",
       "\t<tr><td><span style=white-space:pre-wrap>This time T-Mobile definitely threw down with the best ads during the #SuperBowl timeouts. \n",
       "https://t.co/yFi091OJQd https://t.co/kGGZiCy3Lp                                              </span></td><td>FALSE                                                                                                                                                                                                                             </td><td>0                                                                                                                                                                                                                                 </td><td>NA                                                                                                                                                                                                                                </td><td>2017-02-16 17:56:09                                                                                                                                                                                                               </td><td>FALSE                                                                                                                                                                                                                             </td><td>NA                                                                                                                                                                                                                                </td><td>832287463322181632                                                                                                                                                                                                                </td><td>NA                                                                                                                                                                                                                                </td><td><span style=white-space:pre-wrap>&lt;a href=\"http://new-website-design.com/\" rel=\"nofollow\"&gt;DCD Demo App&lt;/a&gt;            </span>                                                                                          </td><td><span style=white-space:pre-wrap>TMOalbarney    </span>                                                                                                                                                                           </td><td><span style=white-space:pre-wrap>  0</span>                                                                                                                                                                                       </td><td>FALSE                                                                                                                                                                                                                             </td><td>FALSE                                                                                                                                                                                                                             </td><td>NA                                                                                                                                                                                                                                </td><td>NA                                                                                                                                                                                                                                </td></tr>\n",
       "\t<tr><td><span style=white-space:pre-wrap>Eugenie Bouchard's #SuperBowl date was sealed with a kiss\n",
       "\n",
       "https://t.co/V7rghvmMTE https://t.co/9HmWhgbLds                                                                              </span></td><td>FALSE                                                                                                                                                                                                                             </td><td>0                                                                                                                                                                                                                                 </td><td>NA                                                                                                                                                                                                                                </td><td>2017-02-16 17:56:06                                                                                                                                                                                                               </td><td>FALSE                                                                                                                                                                                                                             </td><td>NA                                                                                                                                                                                                                                </td><td>832287452681400325                                                                                                                                                                                                                </td><td>NA                                                                                                                                                                                                                                </td><td>&lt;a href=\"https://about.twitter.com/products/tweetdeck\" rel=\"nofollow\"&gt;TweetDeck&lt;/a&gt;                                                                                                                                   </td><td><span style=white-space:pre-wrap>OmnisportNews  </span>                                                                                                                                                                           </td><td><span style=white-space:pre-wrap>  0</span>                                                                                                                                                                                       </td><td>FALSE                                                                                                                                                                                                                             </td><td>FALSE                                                                                                                                                                                                                             </td><td>NA                                                                                                                                                                                                                                </td><td>NA                                                                                                                                                                                                                                </td></tr>\n",
       "\t<tr><td><span style=white-space:pre-wrap>Who is on your network? https://t.co/piwm354PFH  #marketing #media #superbowl #influencer #WSJ #business #bloomberg… https://t.co/a6YHGwQXyS                                              </span></td><td>FALSE                                                                                                                                                                                                                             </td><td>0                                                                                                                                                                                                                                 </td><td>NA                                                                                                                                                                                                                                </td><td>2017-02-16 17:56:02                                                                                                                                                                                                               </td><td> TRUE                                                                                                                                                                                                                             </td><td>NA                                                                                                                                                                                                                                </td><td>832287433962172416                                                                                                                                                                                                                </td><td>NA                                                                                                                                                                                                                                </td><td><span style=white-space:pre-wrap>&lt;a href=\"http://sproutsocial.com\" rel=\"nofollow\"&gt;Sprout Social&lt;/a&gt;                  </span>                                                                                          </td><td>socialstocksnow                                                                                                                                                                                                                   </td><td><span style=white-space:pre-wrap>  0</span>                                                                                                                                                                                       </td><td>FALSE                                                                                                                                                                                                                             </td><td>FALSE                                                                                                                                                                                                                             </td><td>NA                                                                                                                                                                                                                                </td><td>NA                                                                                                                                                                                                                                </td></tr>\n",
       "\t<tr><td><span style=white-space:pre-wrap>RT @OnlyInBOS: After losing a #SuperBowl bet to @SamuelAdamsBeer, @SweetwaterBrew is serving a Patriots Pale Ale at their brewery this week…                                              </span></td><td>FALSE                                                                                                                                                                                                                             </td><td>0                                                                                                                                                                                                                                 </td><td>NA                                                                                                                                                                                                                                </td><td>2017-02-16 17:55:45                                                                                                                                                                                                               </td><td>FALSE                                                                                                                                                                                                                             </td><td>NA                                                                                                                                                                                                                                </td><td>832287363443355648                                                                                                                                                                                                                </td><td>NA                                                                                                                                                                                                                                </td><td><span style=white-space:pre-wrap>&lt;a href=\"http://twitter.com/download/iphone\" rel=\"nofollow\"&gt;Twitter for iPhone&lt;/a&gt;  </span>                                                                                          </td><td><span style=white-space:pre-wrap>Crock__pot     </span>                                                                                                                                                                           </td><td>146                                                                                                                                                                                                                               </td><td> TRUE                                                                                                                                                                                                                             </td><td>FALSE                                                                                                                                                                                                                             </td><td>NA                                                                                                                                                                                                                                </td><td>NA                                                                                                                                                                                                                                </td></tr>\n",
       "\t<tr><td><span style=white-space:pre-wrap>RT @SurvivorHealer: You know you're a HUGE fan of Gaga when you're raving about her #SuperBowl performance during a basketball game. &lt;ed&gt;&lt;U+00A0&gt;&lt;U+00BD&gt;&lt;ed&gt;&lt;U+00B1&gt;&lt;U+008C&gt;\n",
       "\n",
       "htt…     </span></td><td>FALSE                                                                                                                                                                                                                                                                 </td><td>0                                                                                                                                                                                                                                                                     </td><td>NA                                                                                                                                                                                                                                                                    </td><td>2017-02-16 17:55:35                                                                                                                                                                                                                                                   </td><td>FALSE                                                                                                                                                                                                                                                                 </td><td>NA                                                                                                                                                                                                                                                                    </td><td>832287323249397761                                                                                                                                                                                                                                                    </td><td>NA                                                                                                                                                                                                                                                                    </td><td><span style=white-space:pre-wrap>&lt;a href=\"http://twitter.com/download/iphone\" rel=\"nofollow\"&gt;Twitter for iPhone&lt;/a&gt;  </span>                                                                                                                              </td><td>SurvivorHealer                                                                                                                                                                                                                                                        </td><td> 28                                                                                                                                                                                                                                                                   </td><td> TRUE                                                                                                                                                                                                                                                                 </td><td>FALSE                                                                                                                                                                                                                                                                 </td><td>NA                                                                                                                                                                                                                                                                    </td><td>NA                                                                                                                                                                                                                                                                    </td></tr>\n",
       "\t<tr><td><span style=white-space:pre-wrap>.@CardsAgainstHumanity laments on the \"failure\" of their #SuperBowl ad, but perhaps there's a silver-lining.… https://t.co/QTUFVfUAZ1                                                     </span></td><td>FALSE                                                                                                                                                                                                                             </td><td>0                                                                                                                                                                                                                                 </td><td>NA                                                                                                                                                                                                                                </td><td>2017-02-16 17:55:18                                                                                                                                                                                                               </td><td> TRUE                                                                                                                                                                                                                             </td><td>NA                                                                                                                                                                                                                                </td><td>832287249987411968                                                                                                                                                                                                                </td><td>NA                                                                                                                                                                                                                                </td><td><span style=white-space:pre-wrap>&lt;a href=\"http://www.hootsuite.com\" rel=\"nofollow\"&gt;Hootsuite&lt;/a&gt;                     </span>                                                                                          </td><td>ChangeMakers_ca                                                                                                                                                                                                                   </td><td><span style=white-space:pre-wrap>  0</span>                                                                                                                                                                                       </td><td>FALSE                                                                                                                                                                                                                             </td><td>FALSE                                                                                                                                                                                                                             </td><td>NA                                                                                                                                                                                                                                </td><td>NA                                                                                                                                                                                                                                </td></tr>\n",
       "\t<tr><td><span style=white-space:pre-wrap>RT @mariasanz_95: Lady Gaga's LIVE mic feed from her #SuperBowl halftime show! She's the BEST and a LEGEND!\n",
       "\n",
       "https://t.co/GlmGkR4kIt                                                    </span></td><td>FALSE                                                                                                                                                                                                                             </td><td>0                                                                                                                                                                                                                                 </td><td>NA                                                                                                                                                                                                                                </td><td>2017-02-16 17:55:00                                                                                                                                                                                                               </td><td>FALSE                                                                                                                                                                                                                             </td><td>NA                                                                                                                                                                                                                                </td><td>832287173990813702                                                                                                                                                                                                                </td><td>NA                                                                                                                                                                                                                                </td><td><span style=white-space:pre-wrap>&lt;a href=\"http://twitter.com/download/iphone\" rel=\"nofollow\"&gt;Twitter for iPhone&lt;/a&gt;  </span>                                                                                          </td><td><span style=white-space:pre-wrap>mrpresideent   </span>                                                                                                                                                                           </td><td><span style=white-space:pre-wrap>  4</span>                                                                                                                                                                                       </td><td> TRUE                                                                                                                                                                                                                             </td><td>FALSE                                                                                                                                                                                                                             </td><td>NA                                                                                                                                                                                                                                </td><td>NA                                                                                                                                                                                                                                </td></tr>\n",
       "\t<tr><td><span style=white-space:pre-wrap>RT @OnlyInBOS: After losing a #SuperBowl bet to @SamuelAdamsBeer, @SweetwaterBrew is serving a Patriots Pale Ale at their brewery this week…                                              </span></td><td>FALSE                                                                                                                                                                                                                             </td><td>0                                                                                                                                                                                                                                 </td><td>NA                                                                                                                                                                                                                                </td><td>2017-02-16 17:54:07                                                                                                                                                                                                               </td><td>FALSE                                                                                                                                                                                                                             </td><td>NA                                                                                                                                                                                                                                </td><td>832286955207532545                                                                                                                                                                                                                </td><td>NA                                                                                                                                                                                                                                </td><td><span style=white-space:pre-wrap>&lt;a href=\"http://twitter.com/download/iphone\" rel=\"nofollow\"&gt;Twitter for iPhone&lt;/a&gt;  </span>                                                                                          </td><td><span style=white-space:pre-wrap>gmac95         </span>                                                                                                                                                                           </td><td>146                                                                                                                                                                                                                               </td><td> TRUE                                                                                                                                                                                                                             </td><td>FALSE                                                                                                                                                                                                                             </td><td>NA                                                                                                                                                                                                                                </td><td>NA                                                                                                                                                                                                                                </td></tr>\n",
       "\t<tr><td><span style=white-space:pre-wrap>RT @Goldberg: 14-0!!!  Stay on them!!! #inbrotherhood #RiseUp #Superbowl https://t.co/HGAFRybt2I                                                                                          </span></td><td>FALSE                                                                                                                                                                                                                             </td><td>0                                                                                                                                                                                                                                 </td><td>NA                                                                                                                                                                                                                                </td><td>2017-02-16 17:54:00                                                                                                                                                                                                               </td><td>FALSE                                                                                                                                                                                                                             </td><td>NA                                                                                                                                                                                                                                </td><td>832286924790497280                                                                                                                                                                                                                </td><td>NA                                                                                                                                                                                                                                </td><td><span style=white-space:pre-wrap>&lt;a href=\"http://www.twitter.com\" rel=\"nofollow\"&gt;Twitter for Windows Phone&lt;/a&gt;       </span>                                                                                          </td><td><span style=white-space:pre-wrap>kansana_viki   </span>                                                                                                                                                                           </td><td>356                                                                                                                                                                                                                               </td><td> TRUE                                                                                                                                                                                                                             </td><td>FALSE                                                                                                                                                                                                                             </td><td>NA                                                                                                                                                                                                                                </td><td>NA                                                                                                                                                                                                                                </td></tr>\n",
       "\t<tr><td><span style=white-space:pre-wrap>RT @SurvivorHealer: You know you're a HUGE fan of Gaga when you're raving about her #SuperBowl performance during a basketball game. &lt;ed&gt;&lt;U+00A0&gt;&lt;U+00BD&gt;&lt;ed&gt;&lt;U+00B1&gt;&lt;U+008C&gt;\n",
       "\n",
       "htt…     </span></td><td>FALSE                                                                                                                                                                                                                                                                 </td><td>0                                                                                                                                                                                                                                                                     </td><td>NA                                                                                                                                                                                                                                                                    </td><td>2017-02-16 17:53:56                                                                                                                                                                                                                                                   </td><td>FALSE                                                                                                                                                                                                                                                                 </td><td>NA                                                                                                                                                                                                                                                                    </td><td>832286908654952448                                                                                                                                                                                                                                                    </td><td>NA                                                                                                                                                                                                                                                                    </td><td><span style=white-space:pre-wrap>&lt;a href=\"http://twitter.com/download/iphone\" rel=\"nofollow\"&gt;Twitter for iPhone&lt;/a&gt;  </span>                                                                                                                              </td><td><span style=white-space:pre-wrap>LovaaGaga      </span>                                                                                                                                                                                                               </td><td> 28                                                                                                                                                                                                                                                                   </td><td> TRUE                                                                                                                                                                                                                                                                 </td><td>FALSE                                                                                                                                                                                                                                                                 </td><td>NA                                                                                                                                                                                                                                                                    </td><td>NA                                                                                                                                                                                                                                                                    </td></tr>\n",
       "\t<tr><td><span style=white-space:pre-wrap>RT @Goldberg: Getting ready for the second half... \n",
       "\n",
       "#inbrotherhood #RiseUp #Superbowl #PepsiHalftime https://t.co/CARWlnBv95                                                           </span></td><td>FALSE                                                                                                                                                                                                                             </td><td>0                                                                                                                                                                                                                                 </td><td>NA                                                                                                                                                                                                                                </td><td>2017-02-16 17:53:47                                                                                                                                                                                                               </td><td>FALSE                                                                                                                                                                                                                             </td><td>NA                                                                                                                                                                                                                                </td><td>832286868502896640                                                                                                                                                                                                                </td><td>NA                                                                                                                                                                                                                                </td><td><span style=white-space:pre-wrap>&lt;a href=\"http://www.twitter.com\" rel=\"nofollow\"&gt;Twitter for Windows Phone&lt;/a&gt;       </span>                                                                                          </td><td><span style=white-space:pre-wrap>kansana_viki   </span>                                                                                                                                                                           </td><td>485                                                                                                                                                                                                                               </td><td> TRUE                                                                                                                                                                                                                             </td><td>FALSE                                                                                                                                                                                                                             </td><td>NA                                                                                                                                                                                                                                </td><td>NA                                                                                                                                                                                                                                </td></tr>\n",
       "</tbody>\n",
       "</table>\n"
      ],
      "text/latex": [
       "\\begin{tabular}{r|llllllllllllllll}\n",
       " text & favorited & favoriteCount & replyToSN & created & truncated & replyToSID & id & replyToUID & statusSource & screenName & retweetCount & isRetweet & retweeted & longitude & latitude\\\\\n",
       "\\hline\n",
       "\t Football Radio Show Presents The TrendZone https://t.co/SOSbprZ6oN \\#TrendZone \\#NFL \\#NEvsATL \\#NFL \\#Superbowl \\#SB51… https://t.co/IyJz3Sp0vP                                                 & FALSE                                                                                                                                                                                                  & 0                                                                                                                                                                                                      & NA                                                                                                                                                                                                     & 2017-02-16 17:58:07                                                                                                                                                                                    &  TRUE                                                                                                                                                                                                  & NA                                                                                                                                                                                                     & 832287960456429570                                                                                                                                                                                     & NA                                                                                                                                                                                                     & <a href=\"https://www.socialjukebox.com\" rel=\"nofollow\">The Social Jukebox</a>                                                                                                                          & footballrs                                                                                                                                                                                             &   0                                                                                                                                                                                                    & FALSE                                                                                                                                                                                                  & FALSE                                                                                                                                                                                                  & NA                                                                                                                                                                                                     & NA                                                                                                                                                                                                    \\\\\n",
       "\t RT @vdohow: Watch \\#SuperBowl live FREE at https://t.co/vLUVTynESr\n",
       "\n",
       "\\#SuperBowlSunday \\#ladygaga https://t.co/PvAPP4L8YV                                                                    & FALSE                                                                                                                                                                                            & 0                                                                                                                                                                                                & NA                                                                                                                                                                                               & 2017-02-16 17:58:01                                                                                                                                                                              & FALSE                                                                                                                                                                                            & NA                                                                                                                                                                                               & 832287935462400000                                                                                                                                                                               & NA                                                                                                                                                                                               & <a href=\"http://twitter.com\" rel=\"nofollow\">Twitter Web Client</a>                                                                                                                               & ShenaShena35                                                                                                                                                                                     & 309                                                                                                                                                                                              &  TRUE                                                                                                                                                                                            & FALSE                                                                                                                                                                                            & NA                                                                                                                                                                                               & NA                                                                                                                                                                                              \\\\\n",
       "\t The \\#Superbowl is over but these \\#healthy \\#appetizers are great anytime! - https://t.co/8o42eez1uu \\#HealthyRecipes \\#Nutrition                                                              & FALSE                                                                                                                                                                                                & 0                                                                                                                                                                                                    & NA                                                                                                                                                                                                   & 2017-02-16 17:58:00                                                                                                                                                                                  & FALSE                                                                                                                                                                                                & NA                                                                                                                                                                                                   & 832287931540713472                                                                                                                                                                                   & NA                                                                                                                                                                                                   & <a href=\"https://about.twitter.com/products/tweetdeck\" rel=\"nofollow\">TweetDeck</a>                                                                                                                  & JennySwisher                                                                                                                                                                                         &   0                                                                                                                                                                                                  & FALSE                                                                                                                                                                                                & FALSE                                                                                                                                                                                                & NA                                                                                                                                                                                                   & NA                                                                                                                                                                                                  \\\\\n",
       "\t RT @SurvivorHealer: Just look at the passion \\&amp; hard work in Gaga's \\#SuperBowl \\#PepsiHalftime rehearsals.\n",
       "No wonder this made history. <ed><U+00A0><U+00BC><ed><U+00BC><U+009F>\n",
       "\n",
       "ht… & FALSE                                                                                                                                                                                            & 0                                                                                                                                                                                                & NA                                                                                                                                                                                               & 2017-02-16 17:57:06                                                                                                                                                                              & FALSE                                                                                                                                                                                            & NA                                                                                                                                                                                               & 832287705388171267                                                                                                                                                                               & NA                                                                                                                                                                                               & <a href=\"http://twitter.com/download/android\" rel=\"nofollow\">Twitter for Android</a>                                                                                                             & cprluvsgaga                                                                                                                                                                                      & 217                                                                                                                                                                                              &  TRUE                                                                                                                                                                                            & FALSE                                                                                                                                                                                            & NA                                                                                                                                                                                               & NA                                                                                                                                                                                              \\\\\n",
       "\t RT @OnlyInBOS: After losing a \\#SuperBowl bet to @SamuelAdamsBeer, @SweetwaterBrew is serving a Patriots Pale Ale at their brewery this week…                                               & FALSE                                                                                                                                                                                        & 0                                                                                                                                                                                            & NA                                                                                                                                                                                           & 2017-02-16 17:56:58                                                                                                                                                                          & FALSE                                                                                                                                                                                        & NA                                                                                                                                                                                           & 832287669174620161                                                                                                                                                                           & NA                                                                                                                                                                                           & <a href=\"http://twitter.com/download/iphone\" rel=\"nofollow\">Twitter for iPhone</a>                                                                                                           & emilyharrigan                                                                                                                                                                                & 146                                                                                                                                                                                          &  TRUE                                                                                                                                                                                        & FALSE                                                                                                                                                                                        & NA                                                                                                                                                                                           & NA                                                                                                                                                                                          \\\\\n",
       "\t Check out how @sweetwaterbrew made good on their \\#SuperBowl wager with @SamuelAdamsBeer. \\#CraftBeer \\#drinklocal https://t.co/8XcrJx82N2                                                    & FALSE                                                                                                                                                                                            & 0                                                                                                                                                                                                & NA                                                                                                                                                                                               & 2017-02-16 17:56:55                                                                                                                                                                              & FALSE                                                                                                                                                                                            & NA                                                                                                                                                                                               & 832287658701361155                                                                                                                                                                               & NA                                                                                                                                                                                               & <a href=\"http://twitter.com\" rel=\"nofollow\">Twitter Web Client</a>                                                                                                                               & GDesrosiers93                                                                                                                                                                                    &   0                                                                                                                                                                                              & FALSE                                                                                                                                                                                            & FALSE                                                                                                                                                                                            & NA                                                                                                                                                                                               & NA                                                                                                                                                                                              \\\\\n",
       "\t Top 5 Most Humorous, Most Heartwarming, \\&amp; Most Inspirational Ads of \\#SuperBowl 51 in our Post-Game Ad Wrap-Up, here… https://t.co/Ef8QPfORrl                                           & FALSE                                                                                                                                                                                          & 0                                                                                                                                                                                              & NA                                                                                                                                                                                             & 2017-02-16 17:56:51                                                                                                                                                                            &  TRUE                                                                                                                                                                                          & NA                                                                                                                                                                                             & 832287643287318529                                                                                                                                                                             & NA                                                                                                                                                                                             & <a href=\"http://twitter.com\" rel=\"nofollow\">Twitter Web Client</a>                                                                                                                             & Ace\\_Metrix                                                                                                                                                                                   &   0                                                                                                                                                                                            & FALSE                                                                                                                                                                                          & FALSE                                                                                                                                                                                          & NA                                                                                                                                                                                             & NA                                                                                                                                                                                            \\\\\n",
       "\t RT @DJTriumph: \\#ladygaga opening the halftime show like. \\#SuperBowl \\#SuperBowlSunday \\#PepsiHalftime \\#LadyGagaSuperBowlHOJE \\#Sting \\#WCW http…                                               & FALSE                                                                                                                                                                                                    & 0                                                                                                                                                                                                        & NA                                                                                                                                                                                                       & 2017-02-16 17:56:39                                                                                                                                                                                      & FALSE                                                                                                                                                                                                    & NA                                                                                                                                                                                                       & 832287592259293184                                                                                                                                                                                       & NA                                                                                                                                                                                                       & <a href=\"http://twitter.com\" rel=\"nofollow\">Twitter Web Client</a>                                                                                                                                       & TonyMontana7002                                                                                                                                                                                          &   1                                                                                                                                                                                                      &  TRUE                                                                                                                                                                                                    & FALSE                                                                                                                                                                                                    & NA                                                                                                                                                                                                       & NA                                                                                                                                                                                                      \\\\\n",
       "\t RT @MercyForAnimals: 6 Horrifying facts about chickens raised for food. \\#SuperBowl https://t.co/3KpRn9u4ig                                                                                 & FALSE                                                                                                                                                                                        & 0                                                                                                                                                                                            & NA                                                                                                                                                                                           & 2017-02-16 17:56:37                                                                                                                                                                          & FALSE                                                                                                                                                                                        & NA                                                                                                                                                                                           & 832287580498567168                                                                                                                                                                           & NA                                                                                                                                                                                           & <a href=\"http://twitter.com/download/iphone\" rel=\"nofollow\">Twitter for iPhone</a>                                                                                                           & OhioVegFest                                                                                                                                                                                  &  76                                                                                                                                                                                          &  TRUE                                                                                                                                                                                        & FALSE                                                                                                                                                                                        & NA                                                                                                                                                                                           & NA                                                                                                                                                                                          \\\\\n",
       "\t This time T-Mobile definitely threw down with the best ads during the \\#SuperBowl timeouts. \n",
       "https://t.co/yFi091OJQd https://t.co/kGGZiCy3Lp                                               & FALSE                                                                                                                                                                                        & 0                                                                                                                                                                                            & NA                                                                                                                                                                                           & 2017-02-16 17:56:09                                                                                                                                                                          & FALSE                                                                                                                                                                                        & NA                                                                                                                                                                                           & 832287463322181632                                                                                                                                                                           & NA                                                                                                                                                                                           & <a href=\"http://new-website-design.com/\" rel=\"nofollow\">DCD Demo App</a>                                                                                                                     & TMOalbarney                                                                                                                                                                                  &   0                                                                                                                                                                                          & FALSE                                                                                                                                                                                        & FALSE                                                                                                                                                                                        & NA                                                                                                                                                                                           & NA                                                                                                                                                                                          \\\\\n",
       "\t Eugenie Bouchard's \\#SuperBowl date was sealed with a kiss\n",
       "\n",
       "https://t.co/V7rghvmMTE https://t.co/9HmWhgbLds                                                                               & FALSE                                                                                                                                                                                        & 0                                                                                                                                                                                            & NA                                                                                                                                                                                           & 2017-02-16 17:56:06                                                                                                                                                                          & FALSE                                                                                                                                                                                        & NA                                                                                                                                                                                           & 832287452681400325                                                                                                                                                                           & NA                                                                                                                                                                                           & <a href=\"https://about.twitter.com/products/tweetdeck\" rel=\"nofollow\">TweetDeck</a>                                                                                                          & OmnisportNews                                                                                                                                                                                &   0                                                                                                                                                                                          & FALSE                                                                                                                                                                                        & FALSE                                                                                                                                                                                        & NA                                                                                                                                                                                           & NA                                                                                                                                                                                          \\\\\n",
       "\t Who is on your network? https://t.co/piwm354PFH  \\#marketing \\#media \\#superbowl \\#influencer \\#WSJ \\#business \\#bloomberg… https://t.co/a6YHGwQXyS                                               & FALSE                                                                                                                                                                                                    & 0                                                                                                                                                                                                        & NA                                                                                                                                                                                                       & 2017-02-16 17:56:02                                                                                                                                                                                      &  TRUE                                                                                                                                                                                                    & NA                                                                                                                                                                                                       & 832287433962172416                                                                                                                                                                                       & NA                                                                                                                                                                                                       & <a href=\"http://sproutsocial.com\" rel=\"nofollow\">Sprout Social</a>                                                                                                                                       & socialstocksnow                                                                                                                                                                                          &   0                                                                                                                                                                                                      & FALSE                                                                                                                                                                                                    & FALSE                                                                                                                                                                                                    & NA                                                                                                                                                                                                       & NA                                                                                                                                                                                                      \\\\\n",
       "\t RT @OnlyInBOS: After losing a \\#SuperBowl bet to @SamuelAdamsBeer, @SweetwaterBrew is serving a Patriots Pale Ale at their brewery this week…                                               & FALSE                                                                                                                                                                                        & 0                                                                                                                                                                                            & NA                                                                                                                                                                                           & 2017-02-16 17:55:45                                                                                                                                                                          & FALSE                                                                                                                                                                                        & NA                                                                                                                                                                                           & 832287363443355648                                                                                                                                                                           & NA                                                                                                                                                                                           & <a href=\"http://twitter.com/download/iphone\" rel=\"nofollow\">Twitter for iPhone</a>                                                                                                           & Crock\\_\\_pot                                                                                                                                                                               & 146                                                                                                                                                                                          &  TRUE                                                                                                                                                                                        & FALSE                                                                                                                                                                                        & NA                                                                                                                                                                                           & NA                                                                                                                                                                                          \\\\\n",
       "\t RT @SurvivorHealer: You know you're a HUGE fan of Gaga when you're raving about her \\#SuperBowl performance during a basketball game. <ed><U+00A0><U+00BD><ed><U+00B1><U+008C>\n",
       "\n",
       "htt…      & FALSE                                                                                                                                                                                        & 0                                                                                                                                                                                            & NA                                                                                                                                                                                           & 2017-02-16 17:55:35                                                                                                                                                                          & FALSE                                                                                                                                                                                        & NA                                                                                                                                                                                           & 832287323249397761                                                                                                                                                                           & NA                                                                                                                                                                                           & <a href=\"http://twitter.com/download/iphone\" rel=\"nofollow\">Twitter for iPhone</a>                                                                                                           & SurvivorHealer                                                                                                                                                                               &  28                                                                                                                                                                                          &  TRUE                                                                                                                                                                                        & FALSE                                                                                                                                                                                        & NA                                                                                                                                                                                           & NA                                                                                                                                                                                          \\\\\n",
       "\t .@CardsAgainstHumanity laments on the \"failure\" of their \\#SuperBowl ad, but perhaps there's a silver-lining.… https://t.co/QTUFVfUAZ1                                                      & FALSE                                                                                                                                                                                        & 0                                                                                                                                                                                            & NA                                                                                                                                                                                           & 2017-02-16 17:55:18                                                                                                                                                                          &  TRUE                                                                                                                                                                                        & NA                                                                                                                                                                                           & 832287249987411968                                                                                                                                                                           & NA                                                                                                                                                                                           & <a href=\"http://www.hootsuite.com\" rel=\"nofollow\">Hootsuite</a>                                                                                                                              & ChangeMakers\\_ca                                                                                                                                                                            &   0                                                                                                                                                                                          & FALSE                                                                                                                                                                                        & FALSE                                                                                                                                                                                        & NA                                                                                                                                                                                           & NA                                                                                                                                                                                          \\\\\n",
       "\t RT @mariasanz\\_95: Lady Gaga's LIVE mic feed from her \\#SuperBowl halftime show! She's the BEST and a LEGEND!\n",
       "\n",
       "https://t.co/GlmGkR4kIt                                                     & FALSE                                                                                                                                                                                          & 0                                                                                                                                                                                              & NA                                                                                                                                                                                             & 2017-02-16 17:55:00                                                                                                                                                                            & FALSE                                                                                                                                                                                          & NA                                                                                                                                                                                             & 832287173990813702                                                                                                                                                                             & NA                                                                                                                                                                                             & <a href=\"http://twitter.com/download/iphone\" rel=\"nofollow\">Twitter for iPhone</a>                                                                                                             & mrpresideent                                                                                                                                                                                   &   4                                                                                                                                                                                            &  TRUE                                                                                                                                                                                          & FALSE                                                                                                                                                                                          & NA                                                                                                                                                                                             & NA                                                                                                                                                                                            \\\\\n",
       "\t RT @OnlyInBOS: After losing a \\#SuperBowl bet to @SamuelAdamsBeer, @SweetwaterBrew is serving a Patriots Pale Ale at their brewery this week…                                               & FALSE                                                                                                                                                                                        & 0                                                                                                                                                                                            & NA                                                                                                                                                                                           & 2017-02-16 17:54:07                                                                                                                                                                          & FALSE                                                                                                                                                                                        & NA                                                                                                                                                                                           & 832286955207532545                                                                                                                                                                           & NA                                                                                                                                                                                           & <a href=\"http://twitter.com/download/iphone\" rel=\"nofollow\">Twitter for iPhone</a>                                                                                                           & gmac95                                                                                                                                                                                       & 146                                                                                                                                                                                          &  TRUE                                                                                                                                                                                        & FALSE                                                                                                                                                                                        & NA                                                                                                                                                                                           & NA                                                                                                                                                                                          \\\\\n",
       "\t RT @Goldberg: 14-0!!!  Stay on them!!! \\#inbrotherhood \\#RiseUp \\#Superbowl https://t.co/HGAFRybt2I                                                                                           & FALSE                                                                                                                                                                                            & 0                                                                                                                                                                                                & NA                                                                                                                                                                                               & 2017-02-16 17:54:00                                                                                                                                                                              & FALSE                                                                                                                                                                                            & NA                                                                                                                                                                                               & 832286924790497280                                                                                                                                                                               & NA                                                                                                                                                                                               & <a href=\"http://www.twitter.com\" rel=\"nofollow\">Twitter for Windows Phone</a>                                                                                                                    & kansana\\_viki                                                                                                                                                                                   & 356                                                                                                                                                                                              &  TRUE                                                                                                                                                                                            & FALSE                                                                                                                                                                                            & NA                                                                                                                                                                                               & NA                                                                                                                                                                                              \\\\\n",
       "\t RT @SurvivorHealer: You know you're a HUGE fan of Gaga when you're raving about her \\#SuperBowl performance during a basketball game. <ed><U+00A0><U+00BD><ed><U+00B1><U+008C>\n",
       "\n",
       "htt…      & FALSE                                                                                                                                                                                        & 0                                                                                                                                                                                            & NA                                                                                                                                                                                           & 2017-02-16 17:53:56                                                                                                                                                                          & FALSE                                                                                                                                                                                        & NA                                                                                                                                                                                           & 832286908654952448                                                                                                                                                                           & NA                                                                                                                                                                                           & <a href=\"http://twitter.com/download/iphone\" rel=\"nofollow\">Twitter for iPhone</a>                                                                                                           & LovaaGaga                                                                                                                                                                                    &  28                                                                                                                                                                                          &  TRUE                                                                                                                                                                                        & FALSE                                                                                                                                                                                        & NA                                                                                                                                                                                           & NA                                                                                                                                                                                          \\\\\n",
       "\t RT @Goldberg: Getting ready for the second half... \n",
       "\n",
       "\\#inbrotherhood \\#RiseUp \\#Superbowl \\#PepsiHalftime https://t.co/CARWlnBv95                                                            & FALSE                                                                                                                                                                                              & 0                                                                                                                                                                                                  & NA                                                                                                                                                                                                 & 2017-02-16 17:53:47                                                                                                                                                                                & FALSE                                                                                                                                                                                              & NA                                                                                                                                                                                                 & 832286868502896640                                                                                                                                                                                 & NA                                                                                                                                                                                                 & <a href=\"http://www.twitter.com\" rel=\"nofollow\">Twitter for Windows Phone</a>                                                                                                                      & kansana\\_viki                                                                                                                                                                                     & 485                                                                                                                                                                                                &  TRUE                                                                                                                                                                                              & FALSE                                                                                                                                                                                              & NA                                                                                                                                                                                                 & NA                                                                                                                                                                                                \\\\\n",
       "\\end{tabular}\n"
      ],
      "text/markdown": [
       "\n",
       "text | favorited | favoriteCount | replyToSN | created | truncated | replyToSID | id | replyToUID | statusSource | screenName | retweetCount | isRetweet | retweeted | longitude | latitude | \n",
       "|---|---|---|---|---|---|---|---|---|---|---|---|---|---|---|---|---|---|---|---|\n",
       "| Football Radio Show Presents The TrendZone https://t.co/SOSbprZ6oN #TrendZone #NFL #NEvsATL #NFL #Superbowl #SB51… https://t.co/IyJz3Sp0vP                                                 | FALSE                                                                                                                                                                                      | 0                                                                                                                                                                                          | NA                                                                                                                                                                                         | 2017-02-16 17:58:07                                                                                                                                                                        |  TRUE                                                                                                                                                                                      | NA                                                                                                                                                                                         | 832287960456429570                                                                                                                                                                         | NA                                                                                                                                                                                         | <a href=\"https://www.socialjukebox.com\" rel=\"nofollow\">The Social Jukebox</a>                                                                                                              | footballrs                                                                                                                                                                                 |   0                                                                                                                                                                                        | FALSE                                                                                                                                                                                      | FALSE                                                                                                                                                                                      | NA                                                                                                                                                                                         | NA                                                                                                                                                                                         | \n",
       "| RT @vdohow: Watch #SuperBowl live FREE at https://t.co/vLUVTynESr\n",
       "\n",
       "#SuperBowlSunday #ladygaga https://t.co/PvAPP4L8YV                                                                    | FALSE                                                                                                                                                                                      | 0                                                                                                                                                                                          | NA                                                                                                                                                                                         | 2017-02-16 17:58:01                                                                                                                                                                        | FALSE                                                                                                                                                                                      | NA                                                                                                                                                                                         | 832287935462400000                                                                                                                                                                         | NA                                                                                                                                                                                         | <a href=\"http://twitter.com\" rel=\"nofollow\">Twitter Web Client</a>                                                                                                                         | ShenaShena35                                                                                                                                                                               | 309                                                                                                                                                                                        |  TRUE                                                                                                                                                                                      | FALSE                                                                                                                                                                                      | NA                                                                                                                                                                                         | NA                                                                                                                                                                                         | \n",
       "| The #Superbowl is over but these #healthy #appetizers are great anytime! - https://t.co/8o42eez1uu #HealthyRecipes #Nutrition                                                              | FALSE                                                                                                                                                                                      | 0                                                                                                                                                                                          | NA                                                                                                                                                                                         | 2017-02-16 17:58:00                                                                                                                                                                        | FALSE                                                                                                                                                                                      | NA                                                                                                                                                                                         | 832287931540713472                                                                                                                                                                         | NA                                                                                                                                                                                         | <a href=\"https://about.twitter.com/products/tweetdeck\" rel=\"nofollow\">TweetDeck</a>                                                                                                        | JennySwisher                                                                                                                                                                               |   0                                                                                                                                                                                        | FALSE                                                                                                                                                                                      | FALSE                                                                                                                                                                                      | NA                                                                                                                                                                                         | NA                                                                                                                                                                                         | \n",
       "| RT @SurvivorHealer: Just look at the passion &amp; hard work in Gaga's #SuperBowl #PepsiHalftime rehearsals.\n",
       "No wonder this made history. <ed><U+00A0><U+00BC><ed><U+00BC><U+009F>\n",
       "\n",
       "ht… | FALSE                                                                                                                                                                                      | 0                                                                                                                                                                                          | NA                                                                                                                                                                                         | 2017-02-16 17:57:06                                                                                                                                                                        | FALSE                                                                                                                                                                                      | NA                                                                                                                                                                                         | 832287705388171267                                                                                                                                                                         | NA                                                                                                                                                                                         | <a href=\"http://twitter.com/download/android\" rel=\"nofollow\">Twitter for Android</a>                                                                                                       | cprluvsgaga                                                                                                                                                                                | 217                                                                                                                                                                                        |  TRUE                                                                                                                                                                                      | FALSE                                                                                                                                                                                      | NA                                                                                                                                                                                         | NA                                                                                                                                                                                         | \n",
       "| RT @OnlyInBOS: After losing a #SuperBowl bet to @SamuelAdamsBeer, @SweetwaterBrew is serving a Patriots Pale Ale at their brewery this week…                                               | FALSE                                                                                                                                                                                      | 0                                                                                                                                                                                          | NA                                                                                                                                                                                         | 2017-02-16 17:56:58                                                                                                                                                                        | FALSE                                                                                                                                                                                      | NA                                                                                                                                                                                         | 832287669174620161                                                                                                                                                                         | NA                                                                                                                                                                                         | <a href=\"http://twitter.com/download/iphone\" rel=\"nofollow\">Twitter for iPhone</a>                                                                                                         | emilyharrigan                                                                                                                                                                              | 146                                                                                                                                                                                        |  TRUE                                                                                                                                                                                      | FALSE                                                                                                                                                                                      | NA                                                                                                                                                                                         | NA                                                                                                                                                                                         | \n",
       "| Check out how @sweetwaterbrew made good on their #SuperBowl wager with @SamuelAdamsBeer. #CraftBeer #drinklocal https://t.co/8XcrJx82N2                                                    | FALSE                                                                                                                                                                                      | 0                                                                                                                                                                                          | NA                                                                                                                                                                                         | 2017-02-16 17:56:55                                                                                                                                                                        | FALSE                                                                                                                                                                                      | NA                                                                                                                                                                                         | 832287658701361155                                                                                                                                                                         | NA                                                                                                                                                                                         | <a href=\"http://twitter.com\" rel=\"nofollow\">Twitter Web Client</a>                                                                                                                         | GDesrosiers93                                                                                                                                                                              |   0                                                                                                                                                                                        | FALSE                                                                                                                                                                                      | FALSE                                                                                                                                                                                      | NA                                                                                                                                                                                         | NA                                                                                                                                                                                         | \n",
       "| Top 5 Most Humorous, Most Heartwarming, &amp; Most Inspirational Ads of #SuperBowl 51 in our Post-Game Ad Wrap-Up, here… https://t.co/Ef8QPfORrl                                           | FALSE                                                                                                                                                                                      | 0                                                                                                                                                                                          | NA                                                                                                                                                                                         | 2017-02-16 17:56:51                                                                                                                                                                        |  TRUE                                                                                                                                                                                      | NA                                                                                                                                                                                         | 832287643287318529                                                                                                                                                                         | NA                                                                                                                                                                                         | <a href=\"http://twitter.com\" rel=\"nofollow\">Twitter Web Client</a>                                                                                                                         | Ace_Metrix                                                                                                                                                                                 |   0                                                                                                                                                                                        | FALSE                                                                                                                                                                                      | FALSE                                                                                                                                                                                      | NA                                                                                                                                                                                         | NA                                                                                                                                                                                         | \n",
       "| RT @DJTriumph: #ladygaga opening the halftime show like. #SuperBowl #SuperBowlSunday #PepsiHalftime #LadyGagaSuperBowlHOJE #Sting #WCW http…                                               | FALSE                                                                                                                                                                                      | 0                                                                                                                                                                                          | NA                                                                                                                                                                                         | 2017-02-16 17:56:39                                                                                                                                                                        | FALSE                                                                                                                                                                                      | NA                                                                                                                                                                                         | 832287592259293184                                                                                                                                                                         | NA                                                                                                                                                                                         | <a href=\"http://twitter.com\" rel=\"nofollow\">Twitter Web Client</a>                                                                                                                         | TonyMontana7002                                                                                                                                                                            |   1                                                                                                                                                                                        |  TRUE                                                                                                                                                                                      | FALSE                                                                                                                                                                                      | NA                                                                                                                                                                                         | NA                                                                                                                                                                                         | \n",
       "| RT @MercyForAnimals: 6 Horrifying facts about chickens raised for food. #SuperBowl https://t.co/3KpRn9u4ig                                                                                 | FALSE                                                                                                                                                                                      | 0                                                                                                                                                                                          | NA                                                                                                                                                                                         | 2017-02-16 17:56:37                                                                                                                                                                        | FALSE                                                                                                                                                                                      | NA                                                                                                                                                                                         | 832287580498567168                                                                                                                                                                         | NA                                                                                                                                                                                         | <a href=\"http://twitter.com/download/iphone\" rel=\"nofollow\">Twitter for iPhone</a>                                                                                                         | OhioVegFest                                                                                                                                                                                |  76                                                                                                                                                                                        |  TRUE                                                                                                                                                                                      | FALSE                                                                                                                                                                                      | NA                                                                                                                                                                                         | NA                                                                                                                                                                                         | \n",
       "| This time T-Mobile definitely threw down with the best ads during the #SuperBowl timeouts. \n",
       "https://t.co/yFi091OJQd https://t.co/kGGZiCy3Lp                                               | FALSE                                                                                                                                                                                      | 0                                                                                                                                                                                          | NA                                                                                                                                                                                         | 2017-02-16 17:56:09                                                                                                                                                                        | FALSE                                                                                                                                                                                      | NA                                                                                                                                                                                         | 832287463322181632                                                                                                                                                                         | NA                                                                                                                                                                                         | <a href=\"http://new-website-design.com/\" rel=\"nofollow\">DCD Demo App</a>                                                                                                                   | TMOalbarney                                                                                                                                                                                |   0                                                                                                                                                                                        | FALSE                                                                                                                                                                                      | FALSE                                                                                                                                                                                      | NA                                                                                                                                                                                         | NA                                                                                                                                                                                         | \n",
       "| Eugenie Bouchard's #SuperBowl date was sealed with a kiss\n",
       "\n",
       "https://t.co/V7rghvmMTE https://t.co/9HmWhgbLds                                                                               | FALSE                                                                                                                                                                                      | 0                                                                                                                                                                                          | NA                                                                                                                                                                                         | 2017-02-16 17:56:06                                                                                                                                                                        | FALSE                                                                                                                                                                                      | NA                                                                                                                                                                                         | 832287452681400325                                                                                                                                                                         | NA                                                                                                                                                                                         | <a href=\"https://about.twitter.com/products/tweetdeck\" rel=\"nofollow\">TweetDeck</a>                                                                                                        | OmnisportNews                                                                                                                                                                              |   0                                                                                                                                                                                        | FALSE                                                                                                                                                                                      | FALSE                                                                                                                                                                                      | NA                                                                                                                                                                                         | NA                                                                                                                                                                                         | \n",
       "| Who is on your network? https://t.co/piwm354PFH  #marketing #media #superbowl #influencer #WSJ #business #bloomberg… https://t.co/a6YHGwQXyS                                               | FALSE                                                                                                                                                                                      | 0                                                                                                                                                                                          | NA                                                                                                                                                                                         | 2017-02-16 17:56:02                                                                                                                                                                        |  TRUE                                                                                                                                                                                      | NA                                                                                                                                                                                         | 832287433962172416                                                                                                                                                                         | NA                                                                                                                                                                                         | <a href=\"http://sproutsocial.com\" rel=\"nofollow\">Sprout Social</a>                                                                                                                         | socialstocksnow                                                                                                                                                                            |   0                                                                                                                                                                                        | FALSE                                                                                                                                                                                      | FALSE                                                                                                                                                                                      | NA                                                                                                                                                                                         | NA                                                                                                                                                                                         | \n",
       "| RT @OnlyInBOS: After losing a #SuperBowl bet to @SamuelAdamsBeer, @SweetwaterBrew is serving a Patriots Pale Ale at their brewery this week…                                               | FALSE                                                                                                                                                                                      | 0                                                                                                                                                                                          | NA                                                                                                                                                                                         | 2017-02-16 17:55:45                                                                                                                                                                        | FALSE                                                                                                                                                                                      | NA                                                                                                                                                                                         | 832287363443355648                                                                                                                                                                         | NA                                                                                                                                                                                         | <a href=\"http://twitter.com/download/iphone\" rel=\"nofollow\">Twitter for iPhone</a>                                                                                                         | Crock__pot                                                                                                                                                                                 | 146                                                                                                                                                                                        |  TRUE                                                                                                                                                                                      | FALSE                                                                                                                                                                                      | NA                                                                                                                                                                                         | NA                                                                                                                                                                                         | \n",
       "| RT @SurvivorHealer: You know you're a HUGE fan of Gaga when you're raving about her #SuperBowl performance during a basketball game. <ed><U+00A0><U+00BD><ed><U+00B1><U+008C>\n",
       "\n",
       "htt…      | FALSE                                                                                                                                                                                      | 0                                                                                                                                                                                          | NA                                                                                                                                                                                         | 2017-02-16 17:55:35                                                                                                                                                                        | FALSE                                                                                                                                                                                      | NA                                                                                                                                                                                         | 832287323249397761                                                                                                                                                                         | NA                                                                                                                                                                                         | <a href=\"http://twitter.com/download/iphone\" rel=\"nofollow\">Twitter for iPhone</a>                                                                                                         | SurvivorHealer                                                                                                                                                                             |  28                                                                                                                                                                                        |  TRUE                                                                                                                                                                                      | FALSE                                                                                                                                                                                      | NA                                                                                                                                                                                         | NA                                                                                                                                                                                         | \n",
       "| .@CardsAgainstHumanity laments on the \"failure\" of their #SuperBowl ad, but perhaps there's a silver-lining.… https://t.co/QTUFVfUAZ1                                                      | FALSE                                                                                                                                                                                      | 0                                                                                                                                                                                          | NA                                                                                                                                                                                         | 2017-02-16 17:55:18                                                                                                                                                                        |  TRUE                                                                                                                                                                                      | NA                                                                                                                                                                                         | 832287249987411968                                                                                                                                                                         | NA                                                                                                                                                                                         | <a href=\"http://www.hootsuite.com\" rel=\"nofollow\">Hootsuite</a>                                                                                                                            | ChangeMakers_ca                                                                                                                                                                            |   0                                                                                                                                                                                        | FALSE                                                                                                                                                                                      | FALSE                                                                                                                                                                                      | NA                                                                                                                                                                                         | NA                                                                                                                                                                                         | \n",
       "| RT @mariasanz_95: Lady Gaga's LIVE mic feed from her #SuperBowl halftime show! She's the BEST and a LEGEND!\n",
       "\n",
       "https://t.co/GlmGkR4kIt                                                     | FALSE                                                                                                                                                                                      | 0                                                                                                                                                                                          | NA                                                                                                                                                                                         | 2017-02-16 17:55:00                                                                                                                                                                        | FALSE                                                                                                                                                                                      | NA                                                                                                                                                                                         | 832287173990813702                                                                                                                                                                         | NA                                                                                                                                                                                         | <a href=\"http://twitter.com/download/iphone\" rel=\"nofollow\">Twitter for iPhone</a>                                                                                                         | mrpresideent                                                                                                                                                                               |   4                                                                                                                                                                                        |  TRUE                                                                                                                                                                                      | FALSE                                                                                                                                                                                      | NA                                                                                                                                                                                         | NA                                                                                                                                                                                         | \n",
       "| RT @OnlyInBOS: After losing a #SuperBowl bet to @SamuelAdamsBeer, @SweetwaterBrew is serving a Patriots Pale Ale at their brewery this week…                                               | FALSE                                                                                                                                                                                      | 0                                                                                                                                                                                          | NA                                                                                                                                                                                         | 2017-02-16 17:54:07                                                                                                                                                                        | FALSE                                                                                                                                                                                      | NA                                                                                                                                                                                         | 832286955207532545                                                                                                                                                                         | NA                                                                                                                                                                                         | <a href=\"http://twitter.com/download/iphone\" rel=\"nofollow\">Twitter for iPhone</a>                                                                                                         | gmac95                                                                                                                                                                                     | 146                                                                                                                                                                                        |  TRUE                                                                                                                                                                                      | FALSE                                                                                                                                                                                      | NA                                                                                                                                                                                         | NA                                                                                                                                                                                         | \n",
       "| RT @Goldberg: 14-0!!!  Stay on them!!! #inbrotherhood #RiseUp #Superbowl https://t.co/HGAFRybt2I                                                                                           | FALSE                                                                                                                                                                                      | 0                                                                                                                                                                                          | NA                                                                                                                                                                                         | 2017-02-16 17:54:00                                                                                                                                                                        | FALSE                                                                                                                                                                                      | NA                                                                                                                                                                                         | 832286924790497280                                                                                                                                                                         | NA                                                                                                                                                                                         | <a href=\"http://www.twitter.com\" rel=\"nofollow\">Twitter for Windows Phone</a>                                                                                                              | kansana_viki                                                                                                                                                                               | 356                                                                                                                                                                                        |  TRUE                                                                                                                                                                                      | FALSE                                                                                                                                                                                      | NA                                                                                                                                                                                         | NA                                                                                                                                                                                         | \n",
       "| RT @SurvivorHealer: You know you're a HUGE fan of Gaga when you're raving about her #SuperBowl performance during a basketball game. <ed><U+00A0><U+00BD><ed><U+00B1><U+008C>\n",
       "\n",
       "htt…      | FALSE                                                                                                                                                                                      | 0                                                                                                                                                                                          | NA                                                                                                                                                                                         | 2017-02-16 17:53:56                                                                                                                                                                        | FALSE                                                                                                                                                                                      | NA                                                                                                                                                                                         | 832286908654952448                                                                                                                                                                         | NA                                                                                                                                                                                         | <a href=\"http://twitter.com/download/iphone\" rel=\"nofollow\">Twitter for iPhone</a>                                                                                                         | LovaaGaga                                                                                                                                                                                  |  28                                                                                                                                                                                        |  TRUE                                                                                                                                                                                      | FALSE                                                                                                                                                                                      | NA                                                                                                                                                                                         | NA                                                                                                                                                                                         | \n",
       "| RT @Goldberg: Getting ready for the second half... \n",
       "\n",
       "#inbrotherhood #RiseUp #Superbowl #PepsiHalftime https://t.co/CARWlnBv95                                                            | FALSE                                                                                                                                                                                      | 0                                                                                                                                                                                          | NA                                                                                                                                                                                         | 2017-02-16 17:53:47                                                                                                                                                                        | FALSE                                                                                                                                                                                      | NA                                                                                                                                                                                         | 832286868502896640                                                                                                                                                                         | NA                                                                                                                                                                                         | <a href=\"http://www.twitter.com\" rel=\"nofollow\">Twitter for Windows Phone</a>                                                                                                              | kansana_viki                                                                                                                                                                               | 485                                                                                                                                                                                        |  TRUE                                                                                                                                                                                      | FALSE                                                                                                                                                                                      | NA                                                                                                                                                                                         | NA                                                                                                                                                                                         | \n",
       "\n",
       "\n"
      ],
      "text/plain": [
       "   text                                                                                                                                                                                      \n",
       "1  Football Radio Show Presents The TrendZone https://t.co/SOSbprZ6oN #TrendZone #NFL #NEvsATL #NFL #Superbowl #SB51",
       " https://t.co/IyJz3Sp0vP                                                \n",
       "2  RT @vdohow: Watch #SuperBowl live FREE at https://t.co/vLUVTynESr\\n\\n#SuperBowlSunday #ladygaga https://t.co/PvAPP4L8YV                                                                   \n",
       "3  The #Superbowl is over but these #healthy #appetizers are great anytime! - https://t.co/8o42eez1uu #HealthyRecipes #Nutrition                                                             \n",
       "4  RT @SurvivorHealer: Just look at the passion &amp; hard work in Gaga's #SuperBowl #PepsiHalftime rehearsals.\\nNo wonder this made history. <ed><U+00A0><U+00BC><ed><U+00BC><U+009F>\\n\\nht",
       "\n",
       "5  RT @OnlyInBOS: After losing a #SuperBowl bet to @SamuelAdamsBeer, @SweetwaterBrew is serving a Patriots Pale Ale at their brewery this week",
       "                                              \n",
       "6  Check out how @sweetwaterbrew made good on their #SuperBowl wager with @SamuelAdamsBeer. #CraftBeer #drinklocal https://t.co/8XcrJx82N2                                                   \n",
       "7  Top 5 Most Humorous, Most Heartwarming, &amp; Most Inspirational Ads of #SuperBowl 51 in our Post-Game Ad Wrap-Up, here",
       " https://t.co/Ef8QPfORrl                                          \n",
       "8  RT @DJTriumph: #ladygaga opening the halftime show like. #SuperBowl #SuperBowlSunday #PepsiHalftime #LadyGagaSuperBowlHOJE #Sting #WCW http",
       "                                              \n",
       "9  RT @MercyForAnimals: 6 Horrifying facts about chickens raised for food. #SuperBowl https://t.co/3KpRn9u4ig                                                                                \n",
       "10 This time T-Mobile definitely threw down with the best ads during the #SuperBowl timeouts. \\nhttps://t.co/yFi091OJQd https://t.co/kGGZiCy3Lp                                              \n",
       "11 Eugenie Bouchard's #SuperBowl date was sealed with a kiss\\n\\nhttps://t.co/V7rghvmMTE https://t.co/9HmWhgbLds                                                                              \n",
       "12 Who is on your network? https://t.co/piwm354PFH  #marketing #media #superbowl #influencer #WSJ #business #bloomberg",
       " https://t.co/a6YHGwQXyS                                              \n",
       "13 RT @OnlyInBOS: After losing a #SuperBowl bet to @SamuelAdamsBeer, @SweetwaterBrew is serving a Patriots Pale Ale at their brewery this week",
       "                                              \n",
       "14 RT @SurvivorHealer: You know you're a HUGE fan of Gaga when you're raving about her #SuperBowl performance during a basketball game. <ed><U+00A0><U+00BD><ed><U+00B1><U+008C>\\n\\nhtt",
       "     \n",
       "15 .@CardsAgainstHumanity laments on the \"failure\" of their #SuperBowl ad, but perhaps there's a silver-lining.",
       " https://t.co/QTUFVfUAZ1                                                     \n",
       "16 RT @mariasanz_95: Lady Gaga's LIVE mic feed from her #SuperBowl halftime show! She's the BEST and a LEGEND!\\n\\nhttps://t.co/GlmGkR4kIt                                                    \n",
       "17 RT @OnlyInBOS: After losing a #SuperBowl bet to @SamuelAdamsBeer, @SweetwaterBrew is serving a Patriots Pale Ale at their brewery this week",
       "                                              \n",
       "18 RT @Goldberg: 14-0!!!  Stay on them!!! #inbrotherhood #RiseUp #Superbowl https://t.co/HGAFRybt2I                                                                                          \n",
       "19 RT @SurvivorHealer: You know you're a HUGE fan of Gaga when you're raving about her #SuperBowl performance during a basketball game. <ed><U+00A0><U+00BD><ed><U+00B1><U+008C>\\n\\nhtt",
       "     \n",
       "20 RT @Goldberg: Getting ready for the second half... \\n\\n#inbrotherhood #RiseUp #Superbowl #PepsiHalftime https://t.co/CARWlnBv95                                                           \n",
       "   favorited favoriteCount replyToSN created             truncated replyToSID\n",
       "1  FALSE     0             NA        2017-02-16 17:58:07  TRUE     NA        \n",
       "2  FALSE     0             NA        2017-02-16 17:58:01 FALSE     NA        \n",
       "3  FALSE     0             NA        2017-02-16 17:58:00 FALSE     NA        \n",
       "4  FALSE     0             NA        2017-02-16 17:57:06 FALSE     NA        \n",
       "5  FALSE     0             NA        2017-02-16 17:56:58 FALSE     NA        \n",
       "6  FALSE     0             NA        2017-02-16 17:56:55 FALSE     NA        \n",
       "7  FALSE     0             NA        2017-02-16 17:56:51  TRUE     NA        \n",
       "8  FALSE     0             NA        2017-02-16 17:56:39 FALSE     NA        \n",
       "9  FALSE     0             NA        2017-02-16 17:56:37 FALSE     NA        \n",
       "10 FALSE     0             NA        2017-02-16 17:56:09 FALSE     NA        \n",
       "11 FALSE     0             NA        2017-02-16 17:56:06 FALSE     NA        \n",
       "12 FALSE     0             NA        2017-02-16 17:56:02  TRUE     NA        \n",
       "13 FALSE     0             NA        2017-02-16 17:55:45 FALSE     NA        \n",
       "14 FALSE     0             NA        2017-02-16 17:55:35 FALSE     NA        \n",
       "15 FALSE     0             NA        2017-02-16 17:55:18  TRUE     NA        \n",
       "16 FALSE     0             NA        2017-02-16 17:55:00 FALSE     NA        \n",
       "17 FALSE     0             NA        2017-02-16 17:54:07 FALSE     NA        \n",
       "18 FALSE     0             NA        2017-02-16 17:54:00 FALSE     NA        \n",
       "19 FALSE     0             NA        2017-02-16 17:53:56 FALSE     NA        \n",
       "20 FALSE     0             NA        2017-02-16 17:53:47 FALSE     NA        \n",
       "   id                 replyToUID\n",
       "1  832287960456429570 NA        \n",
       "2  832287935462400000 NA        \n",
       "3  832287931540713472 NA        \n",
       "4  832287705388171267 NA        \n",
       "5  832287669174620161 NA        \n",
       "6  832287658701361155 NA        \n",
       "7  832287643287318529 NA        \n",
       "8  832287592259293184 NA        \n",
       "9  832287580498567168 NA        \n",
       "10 832287463322181632 NA        \n",
       "11 832287452681400325 NA        \n",
       "12 832287433962172416 NA        \n",
       "13 832287363443355648 NA        \n",
       "14 832287323249397761 NA        \n",
       "15 832287249987411968 NA        \n",
       "16 832287173990813702 NA        \n",
       "17 832286955207532545 NA        \n",
       "18 832286924790497280 NA        \n",
       "19 832286908654952448 NA        \n",
       "20 832286868502896640 NA        \n",
       "   statusSource                                                                        \n",
       "1  <a href=\"https://www.socialjukebox.com\" rel=\"nofollow\">The Social Jukebox</a>       \n",
       "2  <a href=\"http://twitter.com\" rel=\"nofollow\">Twitter Web Client</a>                  \n",
       "3  <a href=\"https://about.twitter.com/products/tweetdeck\" rel=\"nofollow\">TweetDeck</a> \n",
       "4  <a href=\"http://twitter.com/download/android\" rel=\"nofollow\">Twitter for Android</a>\n",
       "5  <a href=\"http://twitter.com/download/iphone\" rel=\"nofollow\">Twitter for iPhone</a>  \n",
       "6  <a href=\"http://twitter.com\" rel=\"nofollow\">Twitter Web Client</a>                  \n",
       "7  <a href=\"http://twitter.com\" rel=\"nofollow\">Twitter Web Client</a>                  \n",
       "8  <a href=\"http://twitter.com\" rel=\"nofollow\">Twitter Web Client</a>                  \n",
       "9  <a href=\"http://twitter.com/download/iphone\" rel=\"nofollow\">Twitter for iPhone</a>  \n",
       "10 <a href=\"http://new-website-design.com/\" rel=\"nofollow\">DCD Demo App</a>            \n",
       "11 <a href=\"https://about.twitter.com/products/tweetdeck\" rel=\"nofollow\">TweetDeck</a> \n",
       "12 <a href=\"http://sproutsocial.com\" rel=\"nofollow\">Sprout Social</a>                  \n",
       "13 <a href=\"http://twitter.com/download/iphone\" rel=\"nofollow\">Twitter for iPhone</a>  \n",
       "14 <a href=\"http://twitter.com/download/iphone\" rel=\"nofollow\">Twitter for iPhone</a>  \n",
       "15 <a href=\"http://www.hootsuite.com\" rel=\"nofollow\">Hootsuite</a>                     \n",
       "16 <a href=\"http://twitter.com/download/iphone\" rel=\"nofollow\">Twitter for iPhone</a>  \n",
       "17 <a href=\"http://twitter.com/download/iphone\" rel=\"nofollow\">Twitter for iPhone</a>  \n",
       "18 <a href=\"http://www.twitter.com\" rel=\"nofollow\">Twitter for Windows Phone</a>       \n",
       "19 <a href=\"http://twitter.com/download/iphone\" rel=\"nofollow\">Twitter for iPhone</a>  \n",
       "20 <a href=\"http://www.twitter.com\" rel=\"nofollow\">Twitter for Windows Phone</a>       \n",
       "   screenName      retweetCount isRetweet retweeted longitude latitude\n",
       "1  footballrs        0          FALSE     FALSE     NA        NA      \n",
       "2  ShenaShena35    309           TRUE     FALSE     NA        NA      \n",
       "3  JennySwisher      0          FALSE     FALSE     NA        NA      \n",
       "4  cprluvsgaga     217           TRUE     FALSE     NA        NA      \n",
       "5  emilyharrigan   146           TRUE     FALSE     NA        NA      \n",
       "6  GDesrosiers93     0          FALSE     FALSE     NA        NA      \n",
       "7  Ace_Metrix        0          FALSE     FALSE     NA        NA      \n",
       "8  TonyMontana7002   1           TRUE     FALSE     NA        NA      \n",
       "9  OhioVegFest      76           TRUE     FALSE     NA        NA      \n",
       "10 TMOalbarney       0          FALSE     FALSE     NA        NA      \n",
       "11 OmnisportNews     0          FALSE     FALSE     NA        NA      \n",
       "12 socialstocksnow   0          FALSE     FALSE     NA        NA      \n",
       "13 Crock__pot      146           TRUE     FALSE     NA        NA      \n",
       "14 SurvivorHealer   28           TRUE     FALSE     NA        NA      \n",
       "15 ChangeMakers_ca   0          FALSE     FALSE     NA        NA      \n",
       "16 mrpresideent      4           TRUE     FALSE     NA        NA      \n",
       "17 gmac95          146           TRUE     FALSE     NA        NA      \n",
       "18 kansana_viki    356           TRUE     FALSE     NA        NA      \n",
       "19 LovaaGaga        28           TRUE     FALSE     NA        NA      \n",
       "20 kansana_viki    485           TRUE     FALSE     NA        NA      "
      ]
     },
     "metadata": {},
     "output_type": "display_data"
    }
   ],
   "source": [
    "\n",
    "library(\"RMySQL\")\n",
    "library(\"RSQLite\")\n",
    "register_sqlite_backend(\"tweets_collect\")\n",
    "search <- searchTwitter(\"#SuperBowl\",n=20)\n",
    "store_tweets_db(search)\n",
    "data_db <- load_tweets_db(as.data.frame=TRUE)\n",
    "data_db"
   ]
  },
  {
   "cell_type": "code",
   "execution_count": 10,
   "metadata": {
    "collapsed": false
   },
   "outputs": [
    {
     "data": {
      "text/html": [
       "<table>\n",
       "<thead><tr><th scope=col>name</th><th scope=col>country</th><th scope=col>woeid</th></tr></thead>\n",
       "<tbody>\n",
       "\t<tr><td>Worldwide     </td><td>              </td><td>1             </td></tr>\n",
       "\t<tr><td>Winnipeg      </td><td>Canada        </td><td>2972          </td></tr>\n",
       "\t<tr><td>Ottawa        </td><td>Canada        </td><td>3369          </td></tr>\n",
       "\t<tr><td>Quebec        </td><td>Canada        </td><td>3444          </td></tr>\n",
       "\t<tr><td>Montreal      </td><td>Canada        </td><td>3534          </td></tr>\n",
       "\t<tr><td>Toronto       </td><td>Canada        </td><td>4118          </td></tr>\n",
       "\t<tr><td>Edmonton      </td><td>Canada        </td><td>8676          </td></tr>\n",
       "\t<tr><td>Calgary       </td><td>Canada        </td><td>8775          </td></tr>\n",
       "\t<tr><td>Vancouver     </td><td>Canada        </td><td>9807          </td></tr>\n",
       "\t<tr><td>Birmingham    </td><td>United Kingdom</td><td>12723         </td></tr>\n",
       "\t<tr><td>Blackpool     </td><td>United Kingdom</td><td>12903         </td></tr>\n",
       "\t<tr><td>Bournemouth   </td><td>United Kingdom</td><td>13383         </td></tr>\n",
       "\t<tr><td>Brighton      </td><td>United Kingdom</td><td>13911         </td></tr>\n",
       "\t<tr><td>Bristol       </td><td>United Kingdom</td><td>13963         </td></tr>\n",
       "\t<tr><td>Cardiff       </td><td>United Kingdom</td><td>15127         </td></tr>\n",
       "\t<tr><td>Coventry      </td><td>United Kingdom</td><td>17044         </td></tr>\n",
       "\t<tr><td>Derby         </td><td>United Kingdom</td><td>18114         </td></tr>\n",
       "\t<tr><td>Edinburgh     </td><td>United Kingdom</td><td>19344         </td></tr>\n",
       "\t<tr><td>Glasgow       </td><td>United Kingdom</td><td>21125         </td></tr>\n",
       "\t<tr><td>Hull          </td><td>United Kingdom</td><td>25211         </td></tr>\n",
       "\t<tr><td>Leeds         </td><td>United Kingdom</td><td>26042         </td></tr>\n",
       "\t<tr><td>Leicester     </td><td>United Kingdom</td><td>26062         </td></tr>\n",
       "\t<tr><td>Liverpool     </td><td>United Kingdom</td><td>26734         </td></tr>\n",
       "\t<tr><td>Manchester    </td><td>United Kingdom</td><td>28218         </td></tr>\n",
       "\t<tr><td>Middlesbrough </td><td>United Kingdom</td><td>28869         </td></tr>\n",
       "\t<tr><td>Newcastle     </td><td>United Kingdom</td><td>30079         </td></tr>\n",
       "\t<tr><td>Nottingham    </td><td>United Kingdom</td><td>30720         </td></tr>\n",
       "\t<tr><td>Plymouth      </td><td>United Kingdom</td><td>32185         </td></tr>\n",
       "\t<tr><td>Portsmouth    </td><td>United Kingdom</td><td>32452         </td></tr>\n",
       "\t<tr><td>Preston       </td><td>United Kingdom</td><td>32566         </td></tr>\n",
       "\t<tr><td>...</td><td>...</td><td>...</td></tr>\n",
       "\t<tr><td>Nigeria       </td><td>Nigeria       </td><td>23424908      </td></tr>\n",
       "\t<tr><td>Netherlands   </td><td>Netherlands   </td><td>23424909      </td></tr>\n",
       "\t<tr><td>Norway        </td><td>Norway        </td><td>23424910      </td></tr>\n",
       "\t<tr><td>New Zealand   </td><td>New Zealand   </td><td>23424916      </td></tr>\n",
       "\t<tr><td>Peru          </td><td>Peru          </td><td>23424919      </td></tr>\n",
       "\t<tr><td>Pakistan      </td><td>Pakistan      </td><td>23424922      </td></tr>\n",
       "\t<tr><td>Poland        </td><td>Poland        </td><td>23424923      </td></tr>\n",
       "\t<tr><td>Panama        </td><td>Panama        </td><td>23424924      </td></tr>\n",
       "\t<tr><td>Portugal      </td><td>Portugal      </td><td>23424925      </td></tr>\n",
       "\t<tr><td>Qatar         </td><td>Qatar         </td><td>23424930      </td></tr>\n",
       "\t<tr><td>Philippines   </td><td>Philippines   </td><td>23424934      </td></tr>\n",
       "\t<tr><td>Puerto Rico   </td><td>Puerto Rico   </td><td>23424935      </td></tr>\n",
       "\t<tr><td>Russia        </td><td>Russia        </td><td>23424936      </td></tr>\n",
       "\t<tr><td>Saudi Arabia  </td><td>Saudi Arabia  </td><td>23424938      </td></tr>\n",
       "\t<tr><td>South Africa  </td><td>South Africa  </td><td>23424942      </td></tr>\n",
       "\t<tr><td>Singapore     </td><td>Singapore     </td><td>23424948      </td></tr>\n",
       "\t<tr><td>Spain         </td><td>Spain         </td><td>23424950      </td></tr>\n",
       "\t<tr><td>Sweden        </td><td>Sweden        </td><td>23424954      </td></tr>\n",
       "\t<tr><td>Switzerland   </td><td>Switzerland   </td><td>23424957      </td></tr>\n",
       "\t<tr><td>Thailand      </td><td>Thailand      </td><td>23424960      </td></tr>\n",
       "\t<tr><td>Turkey        </td><td>Turkey        </td><td>23424969      </td></tr>\n",
       "\t<tr><td>United Kingdom</td><td>United Kingdom</td><td>23424975      </td></tr>\n",
       "\t<tr><td>Ukraine       </td><td>Ukraine       </td><td>23424976      </td></tr>\n",
       "\t<tr><td>United States </td><td>United States </td><td>23424977      </td></tr>\n",
       "\t<tr><td>Venezuela     </td><td>Venezuela     </td><td>23424982      </td></tr>\n",
       "\t<tr><td>Vietnam       </td><td>Vietnam       </td><td>23424984      </td></tr>\n",
       "\t<tr><td>Petaling      </td><td>Malaysia      </td><td>56013632      </td></tr>\n",
       "\t<tr><td>Hulu Langat   </td><td>Malaysia      </td><td>56013645      </td></tr>\n",
       "\t<tr><td>Ahsa          </td><td>Saudi Arabia  </td><td>56120136      </td></tr>\n",
       "\t<tr><td>Okayama       </td><td>Japan         </td><td>90036018      </td></tr>\n",
       "</tbody>\n",
       "</table>\n"
      ],
      "text/latex": [
       "\\begin{tabular}{r|lll}\n",
       " name & country & woeid\\\\\n",
       "\\hline\n",
       "\t Worldwide      &                & 1             \\\\\n",
       "\t Winnipeg       & Canada         & 2972          \\\\\n",
       "\t Ottawa         & Canada         & 3369          \\\\\n",
       "\t Quebec         & Canada         & 3444          \\\\\n",
       "\t Montreal       & Canada         & 3534          \\\\\n",
       "\t Toronto        & Canada         & 4118          \\\\\n",
       "\t Edmonton       & Canada         & 8676          \\\\\n",
       "\t Calgary        & Canada         & 8775          \\\\\n",
       "\t Vancouver      & Canada         & 9807          \\\\\n",
       "\t Birmingham     & United Kingdom & 12723         \\\\\n",
       "\t Blackpool      & United Kingdom & 12903         \\\\\n",
       "\t Bournemouth    & United Kingdom & 13383         \\\\\n",
       "\t Brighton       & United Kingdom & 13911         \\\\\n",
       "\t Bristol        & United Kingdom & 13963         \\\\\n",
       "\t Cardiff        & United Kingdom & 15127         \\\\\n",
       "\t Coventry       & United Kingdom & 17044         \\\\\n",
       "\t Derby          & United Kingdom & 18114         \\\\\n",
       "\t Edinburgh      & United Kingdom & 19344         \\\\\n",
       "\t Glasgow        & United Kingdom & 21125         \\\\\n",
       "\t Hull           & United Kingdom & 25211         \\\\\n",
       "\t Leeds          & United Kingdom & 26042         \\\\\n",
       "\t Leicester      & United Kingdom & 26062         \\\\\n",
       "\t Liverpool      & United Kingdom & 26734         \\\\\n",
       "\t Manchester     & United Kingdom & 28218         \\\\\n",
       "\t Middlesbrough  & United Kingdom & 28869         \\\\\n",
       "\t Newcastle      & United Kingdom & 30079         \\\\\n",
       "\t Nottingham     & United Kingdom & 30720         \\\\\n",
       "\t Plymouth       & United Kingdom & 32185         \\\\\n",
       "\t Portsmouth     & United Kingdom & 32452         \\\\\n",
       "\t Preston        & United Kingdom & 32566         \\\\\n",
       "\t ... & ... & ...\\\\\n",
       "\t Nigeria        & Nigeria        & 23424908      \\\\\n",
       "\t Netherlands    & Netherlands    & 23424909      \\\\\n",
       "\t Norway         & Norway         & 23424910      \\\\\n",
       "\t New Zealand    & New Zealand    & 23424916      \\\\\n",
       "\t Peru           & Peru           & 23424919      \\\\\n",
       "\t Pakistan       & Pakistan       & 23424922      \\\\\n",
       "\t Poland         & Poland         & 23424923      \\\\\n",
       "\t Panama         & Panama         & 23424924      \\\\\n",
       "\t Portugal       & Portugal       & 23424925      \\\\\n",
       "\t Qatar          & Qatar          & 23424930      \\\\\n",
       "\t Philippines    & Philippines    & 23424934      \\\\\n",
       "\t Puerto Rico    & Puerto Rico    & 23424935      \\\\\n",
       "\t Russia         & Russia         & 23424936      \\\\\n",
       "\t Saudi Arabia   & Saudi Arabia   & 23424938      \\\\\n",
       "\t South Africa   & South Africa   & 23424942      \\\\\n",
       "\t Singapore      & Singapore      & 23424948      \\\\\n",
       "\t Spain          & Spain          & 23424950      \\\\\n",
       "\t Sweden         & Sweden         & 23424954      \\\\\n",
       "\t Switzerland    & Switzerland    & 23424957      \\\\\n",
       "\t Thailand       & Thailand       & 23424960      \\\\\n",
       "\t Turkey         & Turkey         & 23424969      \\\\\n",
       "\t United Kingdom & United Kingdom & 23424975      \\\\\n",
       "\t Ukraine        & Ukraine        & 23424976      \\\\\n",
       "\t United States  & United States  & 23424977      \\\\\n",
       "\t Venezuela      & Venezuela      & 23424982      \\\\\n",
       "\t Vietnam        & Vietnam        & 23424984      \\\\\n",
       "\t Petaling       & Malaysia       & 56013632      \\\\\n",
       "\t Hulu Langat    & Malaysia       & 56013645      \\\\\n",
       "\t Ahsa           & Saudi Arabia   & 56120136      \\\\\n",
       "\t Okayama        & Japan          & 90036018      \\\\\n",
       "\\end{tabular}\n"
      ],
      "text/markdown": [
       "\n",
       "name | country | woeid | \n",
       "|---|---|---|---|---|---|---|---|---|---|---|---|---|---|---|---|---|---|---|---|---|---|---|---|---|---|---|---|---|---|---|---|---|---|---|---|---|---|---|---|---|---|---|---|---|---|---|---|---|---|---|---|---|---|---|---|---|---|---|---|---|\n",
       "| Worldwide      |                | 1              | \n",
       "| Winnipeg       | Canada         | 2972           | \n",
       "| Ottawa         | Canada         | 3369           | \n",
       "| Quebec         | Canada         | 3444           | \n",
       "| Montreal       | Canada         | 3534           | \n",
       "| Toronto        | Canada         | 4118           | \n",
       "| Edmonton       | Canada         | 8676           | \n",
       "| Calgary        | Canada         | 8775           | \n",
       "| Vancouver      | Canada         | 9807           | \n",
       "| Birmingham     | United Kingdom | 12723          | \n",
       "| Blackpool      | United Kingdom | 12903          | \n",
       "| Bournemouth    | United Kingdom | 13383          | \n",
       "| Brighton       | United Kingdom | 13911          | \n",
       "| Bristol        | United Kingdom | 13963          | \n",
       "| Cardiff        | United Kingdom | 15127          | \n",
       "| Coventry       | United Kingdom | 17044          | \n",
       "| Derby          | United Kingdom | 18114          | \n",
       "| Edinburgh      | United Kingdom | 19344          | \n",
       "| Glasgow        | United Kingdom | 21125          | \n",
       "| Hull           | United Kingdom | 25211          | \n",
       "| Leeds          | United Kingdom | 26042          | \n",
       "| Leicester      | United Kingdom | 26062          | \n",
       "| Liverpool      | United Kingdom | 26734          | \n",
       "| Manchester     | United Kingdom | 28218          | \n",
       "| Middlesbrough  | United Kingdom | 28869          | \n",
       "| Newcastle      | United Kingdom | 30079          | \n",
       "| Nottingham     | United Kingdom | 30720          | \n",
       "| Plymouth       | United Kingdom | 32185          | \n",
       "| Portsmouth     | United Kingdom | 32452          | \n",
       "| Preston        | United Kingdom | 32566          | \n",
       "| ... | ... | ... | \n",
       "| Nigeria        | Nigeria        | 23424908       | \n",
       "| Netherlands    | Netherlands    | 23424909       | \n",
       "| Norway         | Norway         | 23424910       | \n",
       "| New Zealand    | New Zealand    | 23424916       | \n",
       "| Peru           | Peru           | 23424919       | \n",
       "| Pakistan       | Pakistan       | 23424922       | \n",
       "| Poland         | Poland         | 23424923       | \n",
       "| Panama         | Panama         | 23424924       | \n",
       "| Portugal       | Portugal       | 23424925       | \n",
       "| Qatar          | Qatar          | 23424930       | \n",
       "| Philippines    | Philippines    | 23424934       | \n",
       "| Puerto Rico    | Puerto Rico    | 23424935       | \n",
       "| Russia         | Russia         | 23424936       | \n",
       "| Saudi Arabia   | Saudi Arabia   | 23424938       | \n",
       "| South Africa   | South Africa   | 23424942       | \n",
       "| Singapore      | Singapore      | 23424948       | \n",
       "| Spain          | Spain          | 23424950       | \n",
       "| Sweden         | Sweden         | 23424954       | \n",
       "| Switzerland    | Switzerland    | 23424957       | \n",
       "| Thailand       | Thailand       | 23424960       | \n",
       "| Turkey         | Turkey         | 23424969       | \n",
       "| United Kingdom | United Kingdom | 23424975       | \n",
       "| Ukraine        | Ukraine        | 23424976       | \n",
       "| United States  | United States  | 23424977       | \n",
       "| Venezuela      | Venezuela      | 23424982       | \n",
       "| Vietnam        | Vietnam        | 23424984       | \n",
       "| Petaling       | Malaysia       | 56013632       | \n",
       "| Hulu Langat    | Malaysia       | 56013645       | \n",
       "| Ahsa           | Saudi Arabia   | 56120136       | \n",
       "| Okayama        | Japan          | 90036018       | \n",
       "\n",
       "\n"
      ],
      "text/plain": [
       "    name           country        woeid   \n",
       "1   Worldwide                     1       \n",
       "2   Winnipeg       Canada         2972    \n",
       "3   Ottawa         Canada         3369    \n",
       "4   Quebec         Canada         3444    \n",
       "5   Montreal       Canada         3534    \n",
       "6   Toronto        Canada         4118    \n",
       "7   Edmonton       Canada         8676    \n",
       "8   Calgary        Canada         8775    \n",
       "9   Vancouver      Canada         9807    \n",
       "10  Birmingham     United Kingdom 12723   \n",
       "11  Blackpool      United Kingdom 12903   \n",
       "12  Bournemouth    United Kingdom 13383   \n",
       "13  Brighton       United Kingdom 13911   \n",
       "14  Bristol        United Kingdom 13963   \n",
       "15  Cardiff        United Kingdom 15127   \n",
       "16  Coventry       United Kingdom 17044   \n",
       "17  Derby          United Kingdom 18114   \n",
       "18  Edinburgh      United Kingdom 19344   \n",
       "19  Glasgow        United Kingdom 21125   \n",
       "20  Hull           United Kingdom 25211   \n",
       "21  Leeds          United Kingdom 26042   \n",
       "22  Leicester      United Kingdom 26062   \n",
       "23  Liverpool      United Kingdom 26734   \n",
       "24  Manchester     United Kingdom 28218   \n",
       "25  Middlesbrough  United Kingdom 28869   \n",
       "26  Newcastle      United Kingdom 30079   \n",
       "27  Nottingham     United Kingdom 30720   \n",
       "28  Plymouth       United Kingdom 32185   \n",
       "29  Portsmouth     United Kingdom 32452   \n",
       "30  Preston        United Kingdom 32566   \n",
       "... ...            ...            ...     \n",
       "438 Nigeria        Nigeria        23424908\n",
       "439 Netherlands    Netherlands    23424909\n",
       "440 Norway         Norway         23424910\n",
       "441 New Zealand    New Zealand    23424916\n",
       "442 Peru           Peru           23424919\n",
       "443 Pakistan       Pakistan       23424922\n",
       "444 Poland         Poland         23424923\n",
       "445 Panama         Panama         23424924\n",
       "446 Portugal       Portugal       23424925\n",
       "447 Qatar          Qatar          23424930\n",
       "448 Philippines    Philippines    23424934\n",
       "449 Puerto Rico    Puerto Rico    23424935\n",
       "450 Russia         Russia         23424936\n",
       "451 Saudi Arabia   Saudi Arabia   23424938\n",
       "452 South Africa   South Africa   23424942\n",
       "453 Singapore      Singapore      23424948\n",
       "454 Spain          Spain          23424950\n",
       "455 Sweden         Sweden         23424954\n",
       "456 Switzerland    Switzerland    23424957\n",
       "457 Thailand       Thailand       23424960\n",
       "458 Turkey         Turkey         23424969\n",
       "459 United Kingdom United Kingdom 23424975\n",
       "460 Ukraine        Ukraine        23424976\n",
       "461 United States  United States  23424977\n",
       "462 Venezuela      Venezuela      23424982\n",
       "463 Vietnam        Vietnam        23424984\n",
       "464 Petaling       Malaysia       56013632\n",
       "465 Hulu Langat    Malaysia       56013645\n",
       "466 Ahsa           Saudi Arabia   56120136\n",
       "467 Okayama        Japan          90036018"
      ]
     },
     "metadata": {},
     "output_type": "display_data"
    }
   ],
   "source": [
    "availableTrendLocations()"
   ]
  },
  {
   "cell_type": "code",
   "execution_count": 11,
   "metadata": {
    "collapsed": false
   },
   "outputs": [
    {
     "data": {
      "text/html": [
       "<table>\n",
       "<thead><tr><th scope=col>name</th><th scope=col>country</th><th scope=col>woeid</th></tr></thead>\n",
       "<tbody>\n",
       "\t<tr><td>Durban      </td><td>South Africa</td><td>1580913     </td></tr>\n",
       "</tbody>\n",
       "</table>\n"
      ],
      "text/latex": [
       "\\begin{tabular}{r|lll}\n",
       " name & country & woeid\\\\\n",
       "\\hline\n",
       "\t Durban       & South Africa & 1580913     \\\\\n",
       "\\end{tabular}\n"
      ],
      "text/markdown": [
       "\n",
       "name | country | woeid | \n",
       "|---|\n",
       "| Durban       | South Africa | 1580913      | \n",
       "\n",
       "\n"
      ],
      "text/plain": [
       "  name   country      woeid  \n",
       "1 Durban South Africa 1580913"
      ]
     },
     "metadata": {},
     "output_type": "display_data"
    }
   ],
   "source": [
    "closestTrendLocations(-44.21,67.23)\n"
   ]
  },
  {
   "cell_type": "code",
   "execution_count": 50,
   "metadata": {
    "collapsed": false
   },
   "outputs": [
    {
     "data": {
      "text/html": [
       "<table>\n",
       "<thead><tr><th scope=col>name</th><th scope=col>url</th><th scope=col>query</th><th scope=col>woeid</th></tr></thead>\n",
       "<tbody>\n",
       "\t<tr><td>Pirates                                                    </td><td>http://twitter.com/search?q=Pirates                        </td><td>Pirates                                                    </td><td>1580913                                                    </td></tr>\n",
       "\t<tr><td>#TourismLekgotla                                           </td><td>http://twitter.com/search?q=%23TourismLekgotla             </td><td>%23TourismLekgotla                                         </td><td>1580913                                                    </td></tr>\n",
       "\t<tr><td>#ThingsDineoShouldTakeWithHer                              </td><td>http://twitter.com/search?q=%23ThingsDineoShouldTakeWithHer</td><td>%23ThingsDineoShouldTakeWithHer                            </td><td>1580913                                                    </td></tr>\n",
       "\t<tr><td>#TheRanakas                                                </td><td>http://twitter.com/search?q=%23TheRanakas                  </td><td>%23TheRanakas                                              </td><td>1580913                                                    </td></tr>\n",
       "\t<tr><td>#PalesaOnTV                                                </td><td>http://twitter.com/search?q=%23PalesaOnTV                  </td><td>%23PalesaOnTV                                              </td><td>1580913                                                    </td></tr>\n",
       "\t<tr><td>#etvScandal                                                </td><td>http://twitter.com/search?q=%23etvScandal                  </td><td>%23etvScandal                                              </td><td>1580913                                                    </td></tr>\n",
       "\t<tr><td>Zahara                                                     </td><td>http://twitter.com/search?q=Zahara                         </td><td>Zahara                                                     </td><td>1580913                                                    </td></tr>\n",
       "\t<tr><td>SAFTA                                                      </td><td>http://twitter.com/search?q=SAFTA                          </td><td>SAFTA                                                      </td><td>1580913                                                    </td></tr>\n",
       "\t<tr><td>Competition Commission                                     </td><td>http://twitter.com/search?q=%22Competition+Commission%22   </td><td>%22Competition+Commission%22                               </td><td>1580913                                                    </td></tr>\n",
       "\t<tr><td>Rand                                                       </td><td>http://twitter.com/search?q=Rand                           </td><td>Rand                                                       </td><td>1580913                                                    </td></tr>\n",
       "</tbody>\n",
       "</table>\n"
      ],
      "text/latex": [
       "\\begin{tabular}{r|llll}\n",
       " name & url & query & woeid\\\\\n",
       "\\hline\n",
       "\t Pirates                                                     & http://twitter.com/search?q=Pirates                         & Pirates                                                     & 1580913                                                    \\\\\n",
       "\t \\#TourismLekgotla                                            & http://twitter.com/search?q=\\%23TourismLekgotla              & \\%23TourismLekgotla                                          & 1580913                                                      \\\\\n",
       "\t \\#ThingsDineoShouldTakeWithHer                               & http://twitter.com/search?q=\\%23ThingsDineoShouldTakeWithHer & \\%23ThingsDineoShouldTakeWithHer                             & 1580913                                                      \\\\\n",
       "\t \\#TheRanakas                                                 & http://twitter.com/search?q=\\%23TheRanakas                   & \\%23TheRanakas                                               & 1580913                                                      \\\\\n",
       "\t \\#PalesaOnTV                                                 & http://twitter.com/search?q=\\%23PalesaOnTV                   & \\%23PalesaOnTV                                               & 1580913                                                      \\\\\n",
       "\t \\#etvScandal                                                 & http://twitter.com/search?q=\\%23etvScandal                   & \\%23etvScandal                                               & 1580913                                                      \\\\\n",
       "\t Zahara                                                      & http://twitter.com/search?q=Zahara                          & Zahara                                                      & 1580913                                                    \\\\\n",
       "\t SAFTA                                                       & http://twitter.com/search?q=SAFTA                           & SAFTA                                                       & 1580913                                                    \\\\\n",
       "\t Competition Commission                                          & http://twitter.com/search?q=\\%22Competition+Commission\\%22    & \\%22Competition+Commission\\%22                                & 1580913                                                        \\\\\n",
       "\t Rand                                                        & http://twitter.com/search?q=Rand                            & Rand                                                        & 1580913                                                    \\\\\n",
       "\\end{tabular}\n"
      ],
      "text/markdown": [
       "\n",
       "name | url | query | woeid | \n",
       "|---|---|---|---|---|---|---|---|---|---|\n",
       "| Pirates                                                     | http://twitter.com/search?q=Pirates                         | Pirates                                                     | 1580913                                                     | \n",
       "| #TourismLekgotla                                            | http://twitter.com/search?q=%23TourismLekgotla              | %23TourismLekgotla                                          | 1580913                                                     | \n",
       "| #ThingsDineoShouldTakeWithHer                               | http://twitter.com/search?q=%23ThingsDineoShouldTakeWithHer | %23ThingsDineoShouldTakeWithHer                             | 1580913                                                     | \n",
       "| #TheRanakas                                                 | http://twitter.com/search?q=%23TheRanakas                   | %23TheRanakas                                               | 1580913                                                     | \n",
       "| #PalesaOnTV                                                 | http://twitter.com/search?q=%23PalesaOnTV                   | %23PalesaOnTV                                               | 1580913                                                     | \n",
       "| #etvScandal                                                 | http://twitter.com/search?q=%23etvScandal                   | %23etvScandal                                               | 1580913                                                     | \n",
       "| Zahara                                                      | http://twitter.com/search?q=Zahara                          | Zahara                                                      | 1580913                                                     | \n",
       "| SAFTA                                                       | http://twitter.com/search?q=SAFTA                           | SAFTA                                                       | 1580913                                                     | \n",
       "| Competition Commission                                      | http://twitter.com/search?q=%22Competition+Commission%22    | %22Competition+Commission%22                                | 1580913                                                     | \n",
       "| Rand                                                        | http://twitter.com/search?q=Rand                            | Rand                                                        | 1580913                                                     | \n",
       "\n",
       "\n"
      ],
      "text/plain": [
       "   name                         \n",
       "1  Pirates                      \n",
       "2  #TourismLekgotla             \n",
       "3  #ThingsDineoShouldTakeWithHer\n",
       "4  #TheRanakas                  \n",
       "5  #PalesaOnTV                  \n",
       "6  #etvScandal                  \n",
       "7  Zahara                       \n",
       "8  SAFTA                        \n",
       "9  Competition Commission       \n",
       "10 Rand                         \n",
       "   url                                                        \n",
       "1  http://twitter.com/search?q=Pirates                        \n",
       "2  http://twitter.com/search?q=%23TourismLekgotla             \n",
       "3  http://twitter.com/search?q=%23ThingsDineoShouldTakeWithHer\n",
       "4  http://twitter.com/search?q=%23TheRanakas                  \n",
       "5  http://twitter.com/search?q=%23PalesaOnTV                  \n",
       "6  http://twitter.com/search?q=%23etvScandal                  \n",
       "7  http://twitter.com/search?q=Zahara                         \n",
       "8  http://twitter.com/search?q=SAFTA                          \n",
       "9  http://twitter.com/search?q=%22Competition+Commission%22   \n",
       "10 http://twitter.com/search?q=Rand                           \n",
       "   query                           woeid  \n",
       "1  Pirates                         1580913\n",
       "2  %23TourismLekgotla              1580913\n",
       "3  %23ThingsDineoShouldTakeWithHer 1580913\n",
       "4  %23TheRanakas                   1580913\n",
       "5  %23PalesaOnTV                   1580913\n",
       "6  %23etvScandal                   1580913\n",
       "7  Zahara                          1580913\n",
       "8  SAFTA                           1580913\n",
       "9  %22Competition+Commission%22    1580913\n",
       "10 Rand                            1580913"
      ]
     },
     "metadata": {},
     "output_type": "display_data"
    }
   ],
   "source": [
    "data <- getTrends(1580913)\n",
    "data1 <- data.frame(data)\n",
    "data1[1:10,]"
   ]
  },
  {
   "cell_type": "markdown",
   "metadata": {},
   "source": [
    "This command let us know about the status of any tweet id"
   ]
  },
  {
   "cell_type": "code",
   "execution_count": 29,
   "metadata": {
    "collapsed": false
   },
   "outputs": [
    {
     "name": "stdout",
     "output_type": "stream",
     "text": [
      "[1] \"OhioVegFest: RT @MercyForAnimals: 6 Horrifying facts about chickens raised for food. #SuperBowl https://t.co/3KpRn9u4ig\"\n"
     ]
    }
   ],
   "source": [
    "st = showStatus('832287580498567168')\n",
    "print(st)"
   ]
  },
  {
   "cell_type": "markdown",
   "metadata": {
    "collapsed": true
   },
   "source": [
    "To search a particular topics tweet we use the searchTwitter method of twitteR package"
   ]
  },
  {
   "cell_type": "code",
   "execution_count": 4,
   "metadata": {
    "collapsed": false
   },
   "outputs": [],
   "source": [
    "search <-\"#SuperBowl\"\n",
    "searchResults <- searchTwitter(search , n = 5000)\n",
    "data_frame <- twListToDF(searchResults)\n",
    "write.csv(data_frame,file=\"Raw_Tweets_Lab1.csv\")"
   ]
  },
  {
   "cell_type": "markdown",
   "metadata": {},
   "source": [
    "This method helps us to remove the content which has been retweeted on twitter"
   ]
  },
  {
   "cell_type": "code",
   "execution_count": 14,
   "metadata": {
    "collapsed": false
   },
   "outputs": [
    {
     "name": "stdout",
     "output_type": "stream",
     "text": [
      "[[1]]\n",
      "[1] \"meetingejovwo: @LadyGaga was the most tweeted about non-nominated artist at the #GRAMMY's 2017 and the 5th most tweeted about overall!\"\n",
      "\n",
      "[[2]]\n",
      "[1] \"meetingejovwo: Natalie Cole, Lauryn Hill and Whitney Houston are the only black women to ever win Album Of The Year in #Grammy's\"\n",
      "\n",
      "[[3]]\n",
      "[1] \"LynneMSadowki: This is awesome! #Grammy https://t.co/wtGq4KknAl\"\n",
      "\n",
      "[[4]]\n",
      "[1] \"afrikinmovement: Sak pase! Tonight at Sixty10 in #LittleHaiti, catch the energy of #Grammy nominated #Haitian outfit,",
      " https://t.co/7yoZpwIfWc\"\n",
      "\n",
      "[[5]]\n",
      "[1] \"PHHNewsRadio: #OnAir now #RIPJohnWalt, #ChanceTheRapper Wins #Grammy + More with your host @ALIASJOHNBROWN https://t.co/VOHIM4CF4P #PlanetHipHopRadio\"\n",
      "\n",
      "[[6]]\n",
      "[1] \"kelly_jordan: Chance the Rapper? Great Artist, @1500ESPNJudd - just won a #GRAMMY https://t.co/X4eNDPeMtC\"\n",
      "\n",
      "[[7]]\n",
      "[1] \"milez_powell: #Grammy #Adele / @Adele ... <ed><U+00A0><U+00BD><ed><U+00B2><U+0090>\\r\\rJust going with the Flow bby https://t.co/lfVkjAwoPh\"\n",
      "\n",
      "[[8]]\n",
      "[1] \"TODDCastPodcast: .@CCollectStore powered news: @DaveMustaine finally wins a #Grammy but then... #Metal #Dystopia",
      " https://t.co/OFA9bl5voE\"\n",
      "\n",
      "[[9]]\n",
      "[1] \"mr_u_st: DC: Live soul/funk.. get your tix for #Grammy winner @MzKendraFoster  @bluesalley 2/20 https://t.co/HYdyDBGjNE #dmv #dcevents\"\n",
      "\n"
     ]
    }
   ],
   "source": [
    "tweets <- searchTwitter(\"#grammy\")\n",
    "no_retweets <- strip_retweets(tweets)\n",
    "print(no_retweets)"
   ]
  },
  {
   "cell_type": "markdown",
   "metadata": {},
   "source": [
    "This command allows us to various timelines which are in the twitter application"
   ]
  },
  {
   "cell_type": "code",
   "execution_count": 16,
   "metadata": {
    "collapsed": false
   },
   "outputs": [
    {
     "name": "stdout",
     "output_type": "stream",
     "text": [
      "[[1]]\n",
      "[1] \"ashwin_mufc: Tweeted from Jupyter using TwitteR package in R #geekystuff v2\"\n",
      "\n",
      "[[2]]\n",
      "[1] \"ashwin_mufc: Tweeted from Jupyter using TwitteR package in R #geekystuff\"\n",
      "\n",
      "[[3]]\n",
      "[1] \"ashwin_mufc: @panchalrohan714 bro &lt;3\"\n",
      "\n",
      "[[4]]\n",
      "[1] \"ashwin_mufc: Well . . . https://t.co/nqO3URUILa\"\n",
      "\n",
      "[[5]]\n",
      "[1] \"ashwin_mufc: @aditya_reds Can't wait bro!\"\n",
      "\n"
     ]
    }
   ],
   "source": [
    "userTime <- userTimeline('ashwin_mufc', n=120)\n",
    "print(userTime)"
   ]
  },
  {
   "cell_type": "markdown",
   "metadata": {},
   "source": [
    "With this function you can tweet from your account through the R language"
   ]
  },
  {
   "cell_type": "code",
   "execution_count": 17,
   "metadata": {
    "collapsed": false
   },
   "outputs": [
    {
     "data": {
      "text/plain": [
       "[1] \"ritika2102: Just for the lab1 project of Data Intensive Computing\""
      ]
     },
     "metadata": {},
     "output_type": "display_data"
    }
   ],
   "source": [
    "tweet(\"Just for the lab1 project of Data Intensive Computing\")"
   ]
  },
  {
   "cell_type": "markdown",
   "metadata": {},
   "source": [
    "This command helps you to update the status through R from your twitter account."
   ]
  },
  {
   "cell_type": "code",
   "execution_count": 18,
   "metadata": {
    "collapsed": false
   },
   "outputs": [
    {
     "name": "stdout",
     "output_type": "stream",
     "text": [
      "[1] \"ritika2102: this is my new status message\"\n"
     ]
    },
    {
     "data": {
      "text/html": [
       "TRUE"
      ],
      "text/latex": [
       "TRUE"
      ],
      "text/markdown": [
       "TRUE"
      ],
      "text/plain": [
       "[1] TRUE"
      ]
     },
     "metadata": {},
     "output_type": "display_data"
    }
   ],
   "source": [
    "newstatus <- updateStatus('this is my new status message')\n",
    "print(newstatus)\n",
    "deleteStatus(newstatus)"
   ]
  },
  {
   "cell_type": "markdown",
   "metadata": {},
   "source": [
    "The commands are also referenced from the TwitteR manual as mentioned by the professor."
   ]
  }
 ],
 "metadata": {
  "kernelspec": {
   "display_name": "R",
   "language": "R",
   "name": "ir"
  },
  "language_info": {
   "codemirror_mode": "r",
   "file_extension": ".r",
   "mimetype": "text/x-r-source",
   "name": "R",
   "pygments_lexer": "r",
   "version": "3.3.2"
  }
 },
 "nbformat": 4,
 "nbformat_minor": 2
}
